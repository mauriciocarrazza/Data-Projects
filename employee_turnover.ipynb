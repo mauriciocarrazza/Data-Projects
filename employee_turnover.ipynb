{
 "cells": [
  {
   "cell_type": "markdown",
   "id": "6671fb82-1962-44c1-aa4f-4e44883b3832",
   "metadata": {},
   "source": [
    "# Can you help reduce employee turnover?\n",
    "\n",
    "## 📖 Background\n",
    "You work for the human capital department of a large corporation. The Board is worried about the relatively high turnover, and your team must look into ways to reduce the number of employees leaving the company.\n",
    "\n",
    "The team needs to understand better the situation, which employees are more likely to leave, and why. Once it is clear what variables impact employee churn, you can present your findings along with your ideas on how to attack the problem."
   ]
  },
  {
   "cell_type": "markdown",
   "id": "2f5929b9-9d9a-457a-99ab-be05f27176f9",
   "metadata": {},
   "source": [
    "## 💾 The data\n",
    "The department has assembled data on almost 10,000 employees. The team used information from exit interviews, performance reviews, and employee records.\n",
    "\n",
    "- \"department\" - the department the employee belongs to.\n",
    "- \"promoted\" - 1 if the employee was promoted in the previous 24 months, 0 otherwise.\n",
    "- \"review\" - the composite score the employee received in their last evaluation.\n",
    "- \"projects\" - how many projects the employee is involved in.\n",
    "- \"salary\" - for confidentiality reasons, salary comes in three tiers: low, medium, high.\n",
    "- \"tenure\" - how many years the employee has been at the company.\n",
    "- \"satisfaction\" - a measure of employee satisfaction from surveys.\n",
    "- \"avg_hrs_month\" - the average hours the employee worked in a month.\n",
    "- \"left\" - \"yes\" if the employee ended up leaving, \"no\" otherwise."
   ]
  },
  {
   "cell_type": "markdown",
   "id": "ea5ecc34-7949-4090-9129-684c491c05cb",
   "metadata": {},
   "source": [
    "## 💪 Competition challenge\n",
    "\n",
    "Create a report that covers the following:\n",
    "1. Which department has the highest employee turnover? Which one has the lowest?\n",
    "2. Investigate which variables seem to be better predictors of employee departure.\n",
    "3. What recommendations would you make regarding ways to reduce employee turnover?"
   ]
  },
  {
   "cell_type": "markdown",
   "id": "f53a49ea-ddf4-4a19-941a-5ce52b679e77",
   "metadata": {},
   "source": [
    "# Introduction\n",
    "\n",
    "First, we're going to import the necessary <b>modules and functions</b>. Then import our dataset, where we found that the target variable (left) is on string format. For modeling purpouses, we have to change it to numbers, where 1 means the employee <b>left</b> and 0 that <b>remains</b>. Finally, preview our dataset and type of the variables."
   ]
  },
  {
   "cell_type": "code",
   "execution_count": 1,
   "id": "fcc55527-b751-4c5d-91e7-66fcab645912",
   "metadata": {},
   "outputs": [
    {
     "name": "stdout",
     "output_type": "stream",
     "text": [
      "(9540, 10)\n",
      "department        object\n",
      "promoted           int64\n",
      "review           float64\n",
      "projects           int64\n",
      "salary            object\n",
      "tenure           float64\n",
      "satisfaction     float64\n",
      "bonus              int64\n",
      "avg_hrs_month    float64\n",
      "left               int64\n",
      "dtype: object\n"
     ]
    },
    {
     "data": {
      "application/com.datacamp.data-table.v1+json": {
       "is_truncated": false,
       "table": {
        "data": [
         {
          "avg_hrs_month": 180.8660696668,
          "bonus": 0,
          "department": "operations",
          "index": 0,
          "left": 0,
          "projects": 3,
          "promoted": 0,
          "review": 0.5775686596,
          "salary": "low",
          "satisfaction": 0.626758974,
          "tenure": 5
         },
         {
          "avg_hrs_month": 182.7081489616,
          "bonus": 0,
          "department": "operations",
          "index": 1,
          "left": 0,
          "projects": 3,
          "promoted": 0,
          "review": 0.7518996607,
          "salary": "medium",
          "satisfaction": 0.4436789548,
          "tenure": 6
         },
         {
          "avg_hrs_month": 184.4160840366,
          "bonus": 0,
          "department": "support",
          "index": 2,
          "left": 0,
          "projects": 3,
          "promoted": 0,
          "review": 0.7225484486,
          "salary": "medium",
          "satisfaction": 0.446823224,
          "tenure": 6
         },
         {
          "avg_hrs_month": 188.7075447757,
          "bonus": 0,
          "department": "logistics",
          "index": 3,
          "left": 0,
          "projects": 4,
          "promoted": 0,
          "review": 0.6751583087,
          "salary": "high",
          "satisfaction": 0.4401387461,
          "tenure": 8
         },
         {
          "avg_hrs_month": 179.8210832731,
          "bonus": 1,
          "department": "sales",
          "index": 4,
          "left": 0,
          "projects": 3,
          "promoted": 0,
          "review": 0.6762031748,
          "salary": "high",
          "satisfaction": 0.5776074457,
          "tenure": 5
         }
        ],
        "schema": {
         "fields": [
          {
           "name": "index",
           "type": "integer"
          },
          {
           "name": "department",
           "type": "string"
          },
          {
           "name": "promoted",
           "type": "integer"
          },
          {
           "name": "review",
           "type": "number"
          },
          {
           "name": "projects",
           "type": "integer"
          },
          {
           "name": "salary",
           "type": "string"
          },
          {
           "name": "tenure",
           "type": "number"
          },
          {
           "name": "satisfaction",
           "type": "number"
          },
          {
           "name": "bonus",
           "type": "integer"
          },
          {
           "name": "avg_hrs_month",
           "type": "number"
          },
          {
           "name": "left",
           "type": "integer"
          }
         ],
         "pandas_version": "0.20.0",
         "primaryKey": [
          "index"
         ]
        }
       }
      },
      "text/html": [
       "<div>\n",
       "<style scoped>\n",
       "    .dataframe tbody tr th:only-of-type {\n",
       "        vertical-align: middle;\n",
       "    }\n",
       "\n",
       "    .dataframe tbody tr th {\n",
       "        vertical-align: top;\n",
       "    }\n",
       "\n",
       "    .dataframe thead th {\n",
       "        text-align: right;\n",
       "    }\n",
       "</style>\n",
       "<table border=\"1\" class=\"dataframe\">\n",
       "  <thead>\n",
       "    <tr style=\"text-align: right;\">\n",
       "      <th></th>\n",
       "      <th>department</th>\n",
       "      <th>promoted</th>\n",
       "      <th>review</th>\n",
       "      <th>projects</th>\n",
       "      <th>salary</th>\n",
       "      <th>tenure</th>\n",
       "      <th>satisfaction</th>\n",
       "      <th>bonus</th>\n",
       "      <th>avg_hrs_month</th>\n",
       "      <th>left</th>\n",
       "    </tr>\n",
       "  </thead>\n",
       "  <tbody>\n",
       "    <tr>\n",
       "      <th>0</th>\n",
       "      <td>operations</td>\n",
       "      <td>0</td>\n",
       "      <td>0.577569</td>\n",
       "      <td>3</td>\n",
       "      <td>low</td>\n",
       "      <td>5.0</td>\n",
       "      <td>0.626759</td>\n",
       "      <td>0</td>\n",
       "      <td>180.866070</td>\n",
       "      <td>0</td>\n",
       "    </tr>\n",
       "    <tr>\n",
       "      <th>1</th>\n",
       "      <td>operations</td>\n",
       "      <td>0</td>\n",
       "      <td>0.751900</td>\n",
       "      <td>3</td>\n",
       "      <td>medium</td>\n",
       "      <td>6.0</td>\n",
       "      <td>0.443679</td>\n",
       "      <td>0</td>\n",
       "      <td>182.708149</td>\n",
       "      <td>0</td>\n",
       "    </tr>\n",
       "    <tr>\n",
       "      <th>2</th>\n",
       "      <td>support</td>\n",
       "      <td>0</td>\n",
       "      <td>0.722548</td>\n",
       "      <td>3</td>\n",
       "      <td>medium</td>\n",
       "      <td>6.0</td>\n",
       "      <td>0.446823</td>\n",
       "      <td>0</td>\n",
       "      <td>184.416084</td>\n",
       "      <td>0</td>\n",
       "    </tr>\n",
       "    <tr>\n",
       "      <th>3</th>\n",
       "      <td>logistics</td>\n",
       "      <td>0</td>\n",
       "      <td>0.675158</td>\n",
       "      <td>4</td>\n",
       "      <td>high</td>\n",
       "      <td>8.0</td>\n",
       "      <td>0.440139</td>\n",
       "      <td>0</td>\n",
       "      <td>188.707545</td>\n",
       "      <td>0</td>\n",
       "    </tr>\n",
       "    <tr>\n",
       "      <th>4</th>\n",
       "      <td>sales</td>\n",
       "      <td>0</td>\n",
       "      <td>0.676203</td>\n",
       "      <td>3</td>\n",
       "      <td>high</td>\n",
       "      <td>5.0</td>\n",
       "      <td>0.577607</td>\n",
       "      <td>1</td>\n",
       "      <td>179.821083</td>\n",
       "      <td>0</td>\n",
       "    </tr>\n",
       "  </tbody>\n",
       "</table>\n",
       "</div>"
      ],
      "text/plain": [
       "   department  promoted    review  projects  salary  tenure  satisfaction  \\\n",
       "0  operations         0  0.577569         3     low     5.0      0.626759   \n",
       "1  operations         0  0.751900         3  medium     6.0      0.443679   \n",
       "2     support         0  0.722548         3  medium     6.0      0.446823   \n",
       "3   logistics         0  0.675158         4    high     8.0      0.440139   \n",
       "4       sales         0  0.676203         3    high     5.0      0.577607   \n",
       "\n",
       "   bonus  avg_hrs_month  left  \n",
       "0      0     180.866070     0  \n",
       "1      0     182.708149     0  \n",
       "2      0     184.416084     0  \n",
       "3      0     188.707545     0  \n",
       "4      1     179.821083     0  "
      ]
     },
     "execution_count": 1,
     "metadata": {},
     "output_type": "execute_result"
    }
   ],
   "source": [
    "# Import all necessary modules\n",
    "# Data manipulation and visualization\n",
    "import pandas as pd\n",
    "import numpy as np\n",
    "import matplotlib.pyplot as plt\n",
    "import seaborn as sns\n",
    "# Model development\n",
    "from sklearn.model_selection import train_test_split\n",
    "from sklearn.preprocessing import MinMaxScaler\n",
    "from sklearn.linear_model import LogisticRegression\n",
    "# Model evaluation\n",
    "from sklearn.metrics import classification_report\n",
    "from sklearn.metrics import confusion_matrix\n",
    "\n",
    "\n",
    "# Import the dataset and change target values to integers\n",
    "df = pd.read_csv('./data/employee_churn_data.csv')\n",
    "print(df.shape)\n",
    "df.loc[df.left == 'no', 'left'] = 0\n",
    "df.loc[df.left == 'yes', 'left'] = 1\n",
    "# Convert 'left' to integer\n",
    "df['left'] = df['left'].astype(int)\n",
    "\n",
    "# Visualize variable types and table\n",
    "print(df.dtypes)\n",
    "df.head()"
   ]
  },
  {
   "cell_type": "markdown",
   "id": "9893f6dd-1766-4548-a3b8-4ea2516f5541",
   "metadata": {},
   "source": [
    "## EDA preview\n",
    "Before going deeper into our variable analysis, lets check the <b>total number of employees</b> per department and the proportion of <b>turnover</b>."
   ]
  },
  {
   "cell_type": "code",
   "execution_count": 2,
   "id": "fe73f5c9-13e8-4a62-b957-0858c13f60ac",
   "metadata": {},
   "outputs": [
    {
     "data": {
      "text/plain": [
       "Text(0, 0.5, 'Employee count')"
      ]
     },
     "execution_count": 2,
     "metadata": {},
     "output_type": "execute_result"
    },
    {
     "data": {
      "image/png": "[encoded data removed]",
      "text/plain": [
       "<Figure size 432x288 with 1 Axes>"
      ]
     },
     "metadata": {
      "needs_background": "light"
     },
     "output_type": "display_data"
    }
   ],
   "source": [
    "# Number ofemployes per department\n",
    "department_count = df['department'].value_counts()\n",
    "\n",
    "# Plot a barchart\n",
    "plt.bar(department_count.index, department_count)\n",
    "plt.xticks(rotation=45)\n",
    "plt.title('Number of employees per department')\n",
    "plt.ylabel('Employee count')"
   ]
  },
  {
   "cell_type": "markdown",
   "id": "56f35ff8-6f35-4fc0-b89a-91a406f1ed1b",
   "metadata": {},
   "source": [
    "Sales, retail, operations and engineering are the biggest departments in terms of employee number.\n",
    "\n",
    "Now let's view the number of turnovers accross the whole company:"
   ]
  },
  {
   "cell_type": "code",
   "execution_count": 3,
   "id": "5c2bdd94-a8e2-400a-87cb-09f004e974e5",
   "metadata": {},
   "outputs": [
    {
     "data": {
      "image/png": "[encoded data removed]",
      "text/plain": [
       "<Figure size 432x288 with 1 Axes>"
      ]
     },
     "metadata": {
      "needs_background": "light"
     },
     "output_type": "display_data"
    },
    {
     "name": "stdout",
     "output_type": "stream",
     "text": [
      "0    6756\n",
      "1    2784\n",
      "Name: left, dtype: int64\n"
     ]
    }
   ],
   "source": [
    "# Plot a bar chart with the proportion of turnovers\n",
    "total_turnover = df.left.sum()\n",
    "plt.bar(['Remains', 'Left'], [df.shape[0] - total_turnover, total_turnover])\n",
    "plt.title('Proportion of employee turonver')\n",
    "plt.ylabel('Employee count')\n",
    "plt.show()\n",
    "\n",
    "print(df.left.value_counts())"
   ]
  },
  {
   "cell_type": "markdown",
   "id": "3522b5ce-c637-4d6f-9286-f650413fdc0c",
   "metadata": {},
   "source": [
    "# 1. Highest and Lowest employee turnover\n",
    "To answer the first question: \"Which department has the highest employee turnover? Which one has the lowest?\" we're going to look at the <b>turnover rate</b> per department."
   ]
  },
  {
   "cell_type": "code",
   "execution_count": 4,
   "id": "b783f539-44cd-4be3-86b8-da98d888b450",
   "metadata": {},
   "outputs": [
    {
     "name": "stdout",
     "output_type": "stream",
     "text": [
      "department\n",
      "IT             30.90\n",
      "logistics      30.83\n",
      "retail         30.56\n",
      "marketing      30.30\n",
      "support        28.84\n",
      "engineering    28.83\n",
      "operations     28.65\n",
      "sales          28.52\n",
      "admin          28.13\n",
      "finance        26.87\n",
      "Name: left, dtype: float64\n"
     ]
    },
    {
     "data": {
      "image/png": "[encoded data removed]",
      "text/plain": [
       "<Figure size 432x288 with 1 Axes>"
      ]
     },
     "metadata": {
      "needs_background": "light"
     },
     "output_type": "display_data"
    }
   ],
   "source": [
    "# Turnover rate per department (%)\n",
    "turnover_dep = df.groupby('department')['left'].sum().sort_values(ascending=False)\n",
    "turnover_dep_ratio = turnover_dep / df.groupby('department')['left'].count()\n",
    "turnover_dep_pct = (turnover_dep_ratio * 100).round(2).sort_values(ascending=False)\n",
    "print(turnover_dep_pct)\n",
    "\n",
    "# Plot turnover rate\n",
    "turnover_dep_pct.plot(kind='bar')\n",
    "plt.xticks(rotation=45)\n",
    "plt.ylim([0, 100])\n",
    "plt.ylabel('% of turnovers')\n",
    "plt.show()"
   ]
  },
  {
   "cell_type": "markdown",
   "id": "2e070c4f-5244-482c-82d2-0e4c8f1aaeb0",
   "metadata": {},
   "source": [
    "<b>IT</b> had the highest turnover rate with 30.9% and <b>finance</b> had the lowest one with 26.87%. The percentage difference is low, barely <b>4%</b> approximately, so it is presumed that the organizational problems spread throughout the entire company, not by specific departments.\n",
    "\n",
    "Additionally, we can calculate the total turnovers by department, obtaining the following graphic:"
   ]
  },
  {
   "cell_type": "code",
   "execution_count": 5,
   "id": "141e24ae-0003-4716-8550-7c58ff98510b",
   "metadata": {},
   "outputs": [
    {
     "data": {
      "image/png": "[encoded data removed]",
      "text/plain": [
       "<Figure size 432x288 with 1 Axes>"
      ]
     },
     "metadata": {
      "needs_background": "light"
     },
     "output_type": "display_data"
    }
   ],
   "source": [
    "# Plot the total number of turnovers by department\n",
    "plt.bar(turnover_dep.index, turnover_dep.values)\n",
    "plt.xticks(rotation=45)\n",
    "plt.title('Total turnovers by department')\n",
    "plt.xlabel('Department')\n",
    "plt.ylabel('number of turnovers')\n",
    "plt.show()"
   ]
  },
  {
   "cell_type": "markdown",
   "id": "f5173af4-6b64-4fc2-b913-d5afc5e7a30c",
   "metadata": {},
   "source": [
    "The <b>sales</b> department had the highest number of turnovers, despite being the third with the lowest rate, due to the large number of employees it has. <b>Finance</b> had the lowest number of turnovers, matching its position with turnover rates."
   ]
  },
  {
   "cell_type": "markdown",
   "id": "fe1925f4-1c73-4611-9f96-92212076cf2d",
   "metadata": {},
   "source": [
    "# 2. Predictors of employee departure\n",
    "Time to investigate which variables seem to be <b>better predictors</b> of employee departure.\n",
    "\n",
    "Lets review our dataset again, and then, start doing some <b>EDA</b> to investigate the relationship with each variable and turnover"
   ]
  },
  {
   "cell_type": "code",
   "execution_count": 6,
   "id": "cde43e53-11cc-4423-83b0-76ab599c2004",
   "metadata": {},
   "outputs": [
    {
     "data": {
      "application/com.datacamp.data-table.v1+json": {
       "is_truncated": false,
       "table": {
        "data": [
         {
          "avg_hrs_month": 180.8660696668,
          "bonus": 0,
          "department": "operations",
          "index": 0,
          "left": 0,
          "projects": 3,
          "promoted": 0,
          "review": 0.5775686596,
          "salary": "low",
          "satisfaction": 0.626758974,
          "tenure": 5
         },
         {
          "avg_hrs_month": 182.7081489616,
          "bonus": 0,
          "department": "operations",
          "index": 1,
          "left": 0,
          "projects": 3,
          "promoted": 0,
          "review": 0.7518996607,
          "salary": "medium",
          "satisfaction": 0.4436789548,
          "tenure": 6
         },
         {
          "avg_hrs_month": 184.4160840366,
          "bonus": 0,
          "department": "support",
          "index": 2,
          "left": 0,
          "projects": 3,
          "promoted": 0,
          "review": 0.7225484486,
          "salary": "medium",
          "satisfaction": 0.446823224,
          "tenure": 6
         },
         {
          "avg_hrs_month": 188.7075447757,
          "bonus": 0,
          "department": "logistics",
          "index": 3,
          "left": 0,
          "projects": 4,
          "promoted": 0,
          "review": 0.6751583087,
          "salary": "high",
          "satisfaction": 0.4401387461,
          "tenure": 8
         },
         {
          "avg_hrs_month": 179.8210832731,
          "bonus": 1,
          "department": "sales",
          "index": 4,
          "left": 0,
          "projects": 3,
          "promoted": 0,
          "review": 0.6762031748,
          "salary": "high",
          "satisfaction": 0.5776074457,
          "tenure": 5
         }
        ],
        "schema": {
         "fields": [
          {
           "name": "index",
           "type": "integer"
          },
          {
           "name": "department",
           "type": "string"
          },
          {
           "name": "promoted",
           "type": "integer"
          },
          {
           "name": "review",
           "type": "number"
          },
          {
           "name": "projects",
           "type": "integer"
          },
          {
           "name": "salary",
           "type": "string"
          },
          {
           "name": "tenure",
           "type": "number"
          },
          {
           "name": "satisfaction",
           "type": "number"
          },
          {
           "name": "bonus",
           "type": "integer"
          },
          {
           "name": "avg_hrs_month",
           "type": "number"
          },
          {
           "name": "left",
           "type": "integer"
          }
         ],
         "pandas_version": "0.20.0",
         "primaryKey": [
          "index"
         ]
        }
       }
      },
      "text/html": [
       "<div>\n",
       "<style scoped>\n",
       "    .dataframe tbody tr th:only-of-type {\n",
       "        vertical-align: middle;\n",
       "    }\n",
       "\n",
       "    .dataframe tbody tr th {\n",
       "        vertical-align: top;\n",
       "    }\n",
       "\n",
       "    .dataframe thead th {\n",
       "        text-align: right;\n",
       "    }\n",
       "</style>\n",
       "<table border=\"1\" class=\"dataframe\">\n",
       "  <thead>\n",
       "    <tr style=\"text-align: right;\">\n",
       "      <th></th>\n",
       "      <th>department</th>\n",
       "      <th>promoted</th>\n",
       "      <th>review</th>\n",
       "      <th>projects</th>\n",
       "      <th>salary</th>\n",
       "      <th>tenure</th>\n",
       "      <th>satisfaction</th>\n",
       "      <th>bonus</th>\n",
       "      <th>avg_hrs_month</th>\n",
       "      <th>left</th>\n",
       "    </tr>\n",
       "  </thead>\n",
       "  <tbody>\n",
       "    <tr>\n",
       "      <th>0</th>\n",
       "      <td>operations</td>\n",
       "      <td>0</td>\n",
       "      <td>0.577569</td>\n",
       "      <td>3</td>\n",
       "      <td>low</td>\n",
       "      <td>5.0</td>\n",
       "      <td>0.626759</td>\n",
       "      <td>0</td>\n",
       "      <td>180.866070</td>\n",
       "      <td>0</td>\n",
       "    </tr>\n",
       "    <tr>\n",
       "      <th>1</th>\n",
       "      <td>operations</td>\n",
       "      <td>0</td>\n",
       "      <td>0.751900</td>\n",
       "      <td>3</td>\n",
       "      <td>medium</td>\n",
       "      <td>6.0</td>\n",
       "      <td>0.443679</td>\n",
       "      <td>0</td>\n",
       "      <td>182.708149</td>\n",
       "      <td>0</td>\n",
       "    </tr>\n",
       "    <tr>\n",
       "      <th>2</th>\n",
       "      <td>support</td>\n",
       "      <td>0</td>\n",
       "      <td>0.722548</td>\n",
       "      <td>3</td>\n",
       "      <td>medium</td>\n",
       "      <td>6.0</td>\n",
       "      <td>0.446823</td>\n",
       "      <td>0</td>\n",
       "      <td>184.416084</td>\n",
       "      <td>0</td>\n",
       "    </tr>\n",
       "    <tr>\n",
       "      <th>3</th>\n",
       "      <td>logistics</td>\n",
       "      <td>0</td>\n",
       "      <td>0.675158</td>\n",
       "      <td>4</td>\n",
       "      <td>high</td>\n",
       "      <td>8.0</td>\n",
       "      <td>0.440139</td>\n",
       "      <td>0</td>\n",
       "      <td>188.707545</td>\n",
       "      <td>0</td>\n",
       "    </tr>\n",
       "    <tr>\n",
       "      <th>4</th>\n",
       "      <td>sales</td>\n",
       "      <td>0</td>\n",
       "      <td>0.676203</td>\n",
       "      <td>3</td>\n",
       "      <td>high</td>\n",
       "      <td>5.0</td>\n",
       "      <td>0.577607</td>\n",
       "      <td>1</td>\n",
       "      <td>179.821083</td>\n",
       "      <td>0</td>\n",
       "    </tr>\n",
       "  </tbody>\n",
       "</table>\n",
       "</div>"
      ],
      "text/plain": [
       "   department  promoted    review  projects  salary  tenure  satisfaction  \\\n",
       "0  operations         0  0.577569         3     low     5.0      0.626759   \n",
       "1  operations         0  0.751900         3  medium     6.0      0.443679   \n",
       "2     support         0  0.722548         3  medium     6.0      0.446823   \n",
       "3   logistics         0  0.675158         4    high     8.0      0.440139   \n",
       "4       sales         0  0.676203         3    high     5.0      0.577607   \n",
       "\n",
       "   bonus  avg_hrs_month  left  \n",
       "0      0     180.866070     0  \n",
       "1      0     182.708149     0  \n",
       "2      0     184.416084     0  \n",
       "3      0     188.707545     0  \n",
       "4      1     179.821083     0  "
      ]
     },
     "execution_count": 6,
     "metadata": {},
     "output_type": "execute_result"
    }
   ],
   "source": [
    "df.head()"
   ]
  },
  {
   "cell_type": "markdown",
   "id": "9289b430-545c-4f53-89f0-52718ae5fcea",
   "metadata": {},
   "source": [
    "## Satisfaction rating\n",
    "One of the variables that could influence departure at first glance is the satisfaction rating by surveys. Let's visualize the results from employee's satisfaction surveys (ranging from 0 to 1)."
   ]
  },
  {
   "cell_type": "code",
   "execution_count": 7,
   "id": "cd7d4482-54eb-4a89-b5ba-c362a62fcafa",
   "metadata": {},
   "outputs": [
    {
     "name": "stdout",
     "output_type": "stream",
     "text": [
      "Mean satisfaction rating: 0.505\n",
      "Median satisfaction rating: 0.501\n",
      "Min. satisfaction rating: 0.0\n",
      "Max. satisfaction rating: 1.0\n"
     ]
    },
    {
     "data": {
      "image/png": "[encoded data removed]",
      "text/plain": [
       "<Figure size 432x288 with 1 Axes>"
      ]
     },
     "metadata": {
      "needs_background": "light"
     },
     "output_type": "display_data"
    }
   ],
   "source": [
    "# Summary statistics from satisfaction surveys\n",
    "print('Mean satisfaction rating:', df.satisfaction.mean().round(3))\n",
    "print('Median satisfaction rating:', df.satisfaction.median().round(3))\n",
    "print('Min. satisfaction rating:', df.satisfaction.min().round(3))\n",
    "print('Max. satisfaction rating:', df.satisfaction.max().round(3))\n",
    "\n",
    "# Plot a histogram\n",
    "plt.hist(df['satisfaction'])\n",
    "plt.xlabel('Satisfaction rating (0-1)')\n",
    "plt.ylabel('Numbeer of employees')\n",
    "plt.title('Satisfaction rating from all employees')\n",
    "plt.show()"
   ]
  },
  {
   "cell_type": "markdown",
   "id": "0def9c89-d825-42b4-81a7-a676e70a0549",
   "metadata": {},
   "source": [
    "Satisfaction rating looks normally distributed around 0.5, this does not speak very well of the well-being of the employees in this company\n",
    "\n",
    "Now we are going to see the results of the surveys depending on whether the employee left or not."
   ]
  },
  {
   "cell_type": "code",
   "execution_count": 8,
   "id": "cac1f21e-cad0-41dc-b335-107ae995b62c",
   "metadata": {},
   "outputs": [
    {
     "name": "stdout",
     "output_type": "stream",
     "text": [
      "Mean satisfaction rating for employees who left: 0.502\n",
      "Median satisfaction rating for employees who left: 0.491 \n",
      "\n",
      "Mean satisfaction rating for employees who remains: 0.506\n",
      "Median satisfaction rating for employees who remains: 0.504 \n",
      "\n",
      "The average satisfaction rate is 0.68 % higher on employees who remains\n",
      "The median satisfaction rate is 2.57 % higher on employees who remains\n"
     ]
    },
    {
     "data": {
      "image/png": "[encoded data removed]",
      "text/plain": [
       "<Figure size 432x288 with 1 Axes>"
      ]
     },
     "metadata": {
      "needs_background": "light"
     },
     "output_type": "display_data"
    }
   ],
   "source": [
    "# Create two datasets containing employees that left and remain, respecively.\n",
    "df_yes = df[df['left'] == 1]\n",
    "df_no = df[df['left'] == 0]\n",
    "\n",
    "# Summary statistics for satisfaction rating per employee outcome:\n",
    "print('Mean satisfaction rating for employees who left:', df_yes.satisfaction.mean().round(3))\n",
    "print('Median satisfaction rating for employees who left:', df_yes.satisfaction.median().round(3), '\\n')\n",
    "print('Mean satisfaction rating for employees who remains:', df_no.satisfaction.mean().round(3))\n",
    "print('Median satisfaction rating for employees who remains:', df_no.satisfaction.median().round(3), '\\n')\n",
    "\n",
    "# Calculate percentage difference of the summary statistics\n",
    "pct_mean_satis = (df_no.satisfaction.mean() - df_yes.satisfaction.mean())*100 / df_yes.satisfaction.mean()\n",
    "print('The average satisfaction rate is', pct_mean_satis.round(2),'% higher on employees who remains')\n",
    "pct_median_satis = (df_no.satisfaction.median() - df_yes.satisfaction.median())*100 / df_yes.satisfaction.median()\n",
    "print('The median satisfaction rate is', pct_median_satis.round(2),'% higher on employees who remains')\n",
    "\n",
    "# Plot a histogram of satisfaction distribution by employee condition\n",
    "plt.hist(df_yes['satisfaction'], alpha=0.8, label='left')\n",
    "plt.hist(df_no['satisfaction'], alpha=0.5, label='remains')\n",
    "plt.legend(loc='upper right')\n",
    "plt.show()"
   ]
  },
  {
   "cell_type": "markdown",
   "id": "7e0793a5-b323-443a-88ef-a293d0543398",
   "metadata": {},
   "source": [
    "Satisfaction rating doesn't seem as important enough as expected to influence the exit of the employees, since only a difference of <b>less than 3%</b> is seen in the median of ratings. Also, both histograms show a very similar trend."
   ]
  },
  {
   "cell_type": "markdown",
   "id": "4b3e84cd-7f3a-42f2-8f54-18a7762b1088",
   "metadata": {},
   "source": [
    "## Promotions\n",
    "May employees who received a promotion in the last 24 months tend to stay with the company longer than those who didn't?"
   ]
  },
  {
   "cell_type": "code",
   "execution_count": 9,
   "id": "09304c3f-02cf-45c8-a0a7-6ee498c90a99",
   "metadata": {},
   "outputs": [
    {
     "name": "stdout",
     "output_type": "stream",
     "text": [
      "promoted\n",
      "0    2727\n",
      "1      57\n",
      "Name: left, dtype: int64 \n",
      "\n",
      "From the employees that left, 2.1 % of them recieved a promotion in the last 24 months \n",
      "\n",
      "promoted\n",
      "0    6524\n",
      "1     232\n",
      "Name: left, dtype: int64 \n",
      "\n",
      "From the employees that remains, 3.6 % of them recieved a promotion in the last 24 months \n",
      "\n"
     ]
    }
   ],
   "source": [
    "# Percentage of employees who received a promotion recently, from the group that left the company\n",
    "prom_who_left = df_yes.groupby('promoted')['left'].count()\n",
    "print(prom_who_left, '\\n')\n",
    "print('From the employees that left,', (prom_who_left[1]*100/prom_who_left[0]).round(1),'% of them recieved a promotion in the last 24 months \\n')\n",
    "\n",
    "# Percentage of employees who received a promotion recently, from the group that remains\n",
    "prom_who_remains = df_no.groupby('promoted')['left'].count()\n",
    "print(prom_who_remains, '\\n')\n",
    "print('From the employees that remains,', (prom_who_remains[1]*100/prom_who_remains[0]).round(1),'% of them recieved a promotion in the last 24 months \\n')"
   ]
  },
  {
   "cell_type": "markdown",
   "id": "e41f3d44-b536-4997-81a5-95cf37974988",
   "metadata": {},
   "source": [
    "Promotions do not seem to be a variable that greatly influences exits, however, there is a <b>slight favorable tendency to stay when they receive promotions</b>."
   ]
  },
  {
   "cell_type": "markdown",
   "id": "8f76cbf0-dc21-4192-9719-aa73c2c952b2",
   "metadata": {},
   "source": [
    "## Reviews \n",
    "Let's see if the last complete evaluation carried out on each employee marks any trend on turnovers. The reviews, like the satisfaction surveys, range from 0 to 1."
   ]
  },
  {
   "cell_type": "code",
   "execution_count": 10,
   "id": "f25f5d02-3551-4bd8-8c64-f9a33b2aa299",
   "metadata": {},
   "outputs": [
    {
     "name": "stdout",
     "output_type": "stream",
     "text": [
      "Mean review rating: 0.652\n",
      "Median review rating: 0.647\n",
      "Min. review rating: 0.31\n",
      "Max. reviewrating: 1.0\n"
     ]
    },
    {
     "data": {
      "image/png": "[encoded data removed]",
      "text/plain": [
       "<Figure size 432x288 with 1 Axes>"
      ]
     },
     "metadata": {
      "needs_background": "light"
     },
     "output_type": "display_data"
    }
   ],
   "source": [
    "# Summary statistics of review in the whole company\n",
    "print('Mean review rating:', df.review.mean().round(3))\n",
    "print('Median review rating:', df.review.median().round(3))\n",
    "print('Min. review rating:', df.review.min().round(3))\n",
    "print('Max. reviewrating:', df.review.max().round(3))\n",
    "\n",
    "# Plot a histogram of reviews' distribution\n",
    "plt.hist(df['review'])\n",
    "plt.xlabel('Employee review (0-1)')\n",
    "plt.ylabel('Numbeer of employees')\n",
    "plt.title('Reviews on all employees')\n",
    "plt.show()"
   ]
  },
  {
   "cell_type": "markdown",
   "id": "0f56b070-cd86-44f0-b7a5-00239ae40e66",
   "metadata": {},
   "source": [
    "Reviews look normally distributed around 0.65, higher than the mean of 0.5 for satistaction values. Let's look at how the reviews vary whether an employee left or remains:"
   ]
  },
  {
   "cell_type": "code",
   "execution_count": 11,
   "id": "e4cb56a5-8bd7-4620-9edf-6b6e7b25b63a",
   "metadata": {},
   "outputs": [
    {
     "name": "stdout",
     "output_type": "stream",
     "text": [
      "Mean review for employees who left: 0.692\n",
      "Median review for employees who left: 0.698 \n",
      "\n",
      "Mean review for employees who remains: 0.635\n",
      "Median review for employees who remains: 0.635 \n",
      "\n",
      "The average review rate is 8.25 % lower on employees who remains\n",
      "The median review rate is 9.11 % lower on employees who remains\n"
     ]
    },
    {
     "data": {
      "image/png": "[encoded data removed]",
      "text/plain": [
       "<Figure size 432x288 with 1 Axes>"
      ]
     },
     "metadata": {
      "needs_background": "light"
     },
     "output_type": "display_data"
    }
   ],
   "source": [
    "# Summary statistics depending on employee outcome\n",
    "print('Mean review for employees who left:', df_yes.review.mean().round(3))\n",
    "print('Median review for employees who left:', df_yes.review.median().round(3), '\\n')\n",
    "print('Mean review for employees who remains:', df_no.review.mean().round(3))\n",
    "print('Median review for employees who remains:', df_no.review.median().round(3), '\\n')\n",
    "\n",
    "# % Difference in summary statistics\n",
    "pct_mean_review = (df_yes.review.mean() - df_no.review.mean())*100 / df_yes.review.mean()\n",
    "print('The average review rate is', pct_mean_review.round(2),'% lower on employees who remains')\n",
    "pct_median_review = (df_yes.review.median() - df_no.review.median())*100 / df_yes.review.median()\n",
    "print('The median review rate is', pct_median_review.round(2),'% lower on employees who remains')\n",
    "\n",
    "# Histograms for reviews on 'left' and 'remains' employees\n",
    "plt.hist(df_yes['review'], alpha=0.5, label='left')\n",
    "plt.hist(df_no['review'], alpha=0.5, label='remains')\n",
    "plt.legend(loc='upper right')\n",
    "plt.show()"
   ]
  },
  {
   "cell_type": "markdown",
   "id": "54e9c39e-780a-4acc-94d7-1d9b39039bc4",
   "metadata": {},
   "source": [
    "We can see in the histograms the trend that <b>employees with better qualifications tend to leave the company more often</b>. This variable proves to have much more weight than satisfaction rating and any other variable so far.\n",
    "\n",
    "Could top performing employes feel that the company is not offering them the opportunities they aspire to?\n",
    "\n",
    "Let's view the 'projects' variable, as this may be related to reviews, and show a same trend."
   ]
  },
  {
   "cell_type": "markdown",
   "id": "3d89ab12-e423-48f6-bcb2-c0957bfdbfc8",
   "metadata": {},
   "source": [
    "## Projects\n",
    "Let's see how the number of projects an employee is involved in is related to the turnover rate"
   ]
  },
  {
   "cell_type": "code",
   "execution_count": 12,
   "id": "5c526583-ceff-4491-b622-fa4b159a0bc5",
   "metadata": {},
   "outputs": [
    {
     "name": "stdout",
     "output_type": "stream",
     "text": [
      "Mean number of projects per employee: 3.275\n",
      "2     578\n",
      "3    5833\n",
      "4    3058\n",
      "5      71\n",
      "Name: projects, dtype: int64\n"
     ]
    },
    {
     "data": {
      "text/plain": [
       "Text(0.5, 1.0, 'Projects')"
      ]
     },
     "execution_count": 12,
     "metadata": {},
     "output_type": "execute_result"
    },
    {
     "data": {
      "image/png": "[encoded data removed]",
      "text/plain": [
       "<Figure size 432x288 with 1 Axes>"
      ]
     },
     "metadata": {
      "needs_background": "light"
     },
     "output_type": "display_data"
    }
   ],
   "source": [
    "# Compute mean projects per employee\n",
    "print('Mean number of projects per employee:', df.projects.mean().round(3))\n",
    "\n",
    "# Number of projects per employee\n",
    "project_count = df['projects'].value_counts().sort_index()\n",
    "print(project_count)\n",
    "\n",
    "# Plot number of projects per employee\n",
    "ax = project_count.plot(kind='bar')\n",
    "fig = ax.get_figure()\n",
    "fig.autofmt_xdate()\n",
    "plt.xlabel('Amount of projects per employee')\n",
    "plt.ylabel('Number of employees')\n",
    "plt.title('Projects')"
   ]
  },
  {
   "cell_type": "code",
   "execution_count": 13,
   "id": "8a05fc24-e8ec-404c-a494-cb4be3ce3112",
   "metadata": {},
   "outputs": [
    {
     "name": "stdout",
     "output_type": "stream",
     "text": [
      "Mean number of projects per employee who left: 3.264\n",
      "Mean number of projects per employee who remains: 3.279\n",
      "% increase: 0.48\n"
     ]
    }
   ],
   "source": [
    "# Mean project involving per type of employee outcome:\n",
    "print('Mean number of projects per employee who left:', df_yes.projects.mean().round(3))\n",
    "print('Mean number of projects per employee who remains:', df_no.projects.mean().round(3))\n",
    "print('% increase:', ((df_no.projects.mean()-df_yes.projects.mean())*100 / df_yes.projects.mean()).round(2))"
   ]
  },
  {
   "cell_type": "code",
   "execution_count": 14,
   "id": "f5a533a7-dc3a-43e3-a87a-5dcbe7076acc",
   "metadata": {},
   "outputs": [
    {
     "name": "stdout",
     "output_type": "stream",
     "text": [
      "2     175\n",
      "3    1720\n",
      "4     869\n",
      "5      20\n",
      "Name: projects, dtype: int64\n",
      "2     403\n",
      "3    4113\n",
      "4    2189\n",
      "5      51\n",
      "Name: projects, dtype: int64\n"
     ]
    }
   ],
   "source": [
    "# Project count of those who left\n",
    "project_count_yes = df_yes['projects'].value_counts().sort_index()\n",
    "print(project_count_yes)\n",
    "\n",
    "# Project count of those who remain\n",
    "project_count_no = df_no['projects'].value_counts().sort_index()\n",
    "print(project_count_no)"
   ]
  },
  {
   "cell_type": "markdown",
   "id": "c7d8a0b8-1cac-4224-b084-f85d8e425c62",
   "metadata": {},
   "source": [
    "Projects do not seem to be a variable that greatly influences exits, however, there is a <b>slight favorable tendency to stay for those who participate in more projects</b>."
   ]
  },
  {
   "cell_type": "markdown",
   "id": "2c0fbb2a-5919-43f9-b4b0-6128d2d01c25",
   "metadata": {},
   "source": [
    "## Salary\n",
    "The data on wage amounts is grouped into three categorical variables for confidentiality: <b>low, medium and high</b> wages.\n",
    "Let's see how the variable behaves with respect to turnovers:"
   ]
  },
  {
   "cell_type": "code",
   "execution_count": 15,
   "id": "0234876f-4a9b-42c4-a764-a2310eb0f9fe",
   "metadata": {},
   "outputs": [
    {
     "name": "stdout",
     "output_type": "stream",
     "text": [
      "   salary  employees  employee_pct\n",
      "0  medium       1951          70.1\n",
      "1    high        442          15.9\n",
      "2     low        391          14.0\n",
      "   salary  employees  employee_pct\n",
      "0  medium       4660          69.0\n",
      "1    high       1106          16.4\n",
      "2     low        990          14.7\n"
     ]
    },
    {
     "data": {
      "image/png": "[encoded data removed]",
      "text/plain": [
       "<Figure size 432x288 with 2 Axes>"
      ]
     },
     "metadata": {
      "needs_background": "light"
     },
     "output_type": "display_data"
    }
   ],
   "source": [
    "# Salary levels per number of employees who left\n",
    "salary_yes = df_yes['salary'].value_counts()\n",
    "salary_yes = pd.DataFrame(salary_yes).reset_index()\n",
    "salary_yes = salary_yes.rename(columns = {'index':'salary', 'salary':'employees'})\n",
    "salary_yes['employee_pct'] = (salary_yes['employees']*100 / salary_yes['employees'].sum()).round(1)\n",
    "print(salary_yes)\n",
    "\n",
    "# Salary levels per number of employees who remains\n",
    "salary_no = df_no['salary'].value_counts()\n",
    "salary_no = pd.DataFrame(salary_no).reset_index()\n",
    "salary_no = salary_no.rename(columns = {'index':'salary', 'salary':'employees'})\n",
    "salary_no['employee_pct'] = (salary_no['employees']*100 / salary_no['employees'].sum()).round(1)\n",
    "print(salary_no)\n",
    "\n",
    "# Plot the two graphs\n",
    "fig, ax =plt.subplots(1,2,sharey=True)\n",
    "sns.barplot(x='salary', y='employee_pct', data=salary_yes, ax=ax[0]).set_title('Left')\n",
    "sns.barplot(x='salary', y='employee_pct', data=salary_no, ax=ax[1]).set_title('Remains')\n",
    "fig.show()"
   ]
  },
  {
   "cell_type": "markdown",
   "id": "9fe10abc-2448-4754-8ad0-addc4b2f2417",
   "metadata": {},
   "source": [
    "A similar proportion can be seen between the salaries of those who left and those who remains, with a slightly favored trend on \"high salarys\" towards the second group. We can suppose that this variable has <b>little effect on turnovers</b>."
   ]
  },
  {
   "cell_type": "markdown",
   "id": "635c2db0-20a8-45f4-b1fe-c0a3e5e37bbc",
   "metadata": {},
   "source": [
    "## Tenure\n",
    "Referring to the number of years in the company. Let's see its relationship with turnovers:"
   ]
  },
  {
   "cell_type": "code",
   "execution_count": 16,
   "id": "0129e409-0311-45db-b167-576f72fbc850",
   "metadata": {},
   "outputs": [
    {
     "data": {
      "image/png": "[encoded data removed]",
      "text/plain": [
       "<Figure size 432x288 with 1 Axes>"
      ]
     },
     "metadata": {
      "needs_background": "light"
     },
     "output_type": "display_data"
    },
    {
     "name": "stdout",
     "output_type": "stream",
     "text": [
      "Left:\n",
      "Mean: 6.58\n",
      "Median: 7.0 \n",
      "\n",
      "Remains:\n",
      "Mean: 6.55\n",
      "Median: 6.0 \n",
      "\n"
     ]
    }
   ],
   "source": [
    "# Plot tenure per count of employees\n",
    "tenure = df['tenure'].value_counts().sort_index().reset_index()\n",
    "tenure = tenure.rename(columns = {'index':'years', 'tenure':'count'})\n",
    "sns.barplot(x='years', y='count', data=tenure)\n",
    "plt.title('Total employee count by years at the company')\n",
    "plt.show()\n",
    "\n",
    "# Summary statistics on tenure for those who left\n",
    "print('Left:')\n",
    "print('Mean:', df_yes['tenure'].mean().round(2))\n",
    "print('Median:', df_yes['tenure'].median().round(2), '\\n')\n",
    "\n",
    "# Summary statistics on tenure for those who remains\n",
    "print('Remains:')\n",
    "print('Mean:', df_no['tenure'].mean().round(2))\n",
    "print('Median:', df_no['tenure'].median().round(2), '\\n')"
   ]
  },
  {
   "cell_type": "markdown",
   "id": "911a7c46-a969-4f29-a6fd-409c3b544609",
   "metadata": {},
   "source": [
    "Employees who left had a slightly longer tenure than those who stayed. However, the difference is very small, so little relationship with turnovers is expected."
   ]
  },
  {
   "cell_type": "markdown",
   "id": "092f7046-0980-43a8-9dc6-4a68f2c01868",
   "metadata": {},
   "source": [
    "## Bonus\n",
    "A variable that is not explained with details like the others, but we're going to asume that '1' refers to employees who received a monetary bonus recently and '0' otherwise."
   ]
  },
  {
   "cell_type": "code",
   "execution_count": 17,
   "id": "3ef43f86-f3e8-4fb8-b2f6-59c192954f5b",
   "metadata": {},
   "outputs": [
    {
     "name": "stdout",
     "output_type": "stream",
     "text": [
      "Left:\n",
      "  bonus  count   pct\n",
      "0    no   2214  79.5\n",
      "1   yes    570  20.5 \n",
      "\n",
      "Remains:\n",
      "  bonus  count   pct\n",
      "0    no   5303  78.5\n",
      "1   yes   1453  21.5\n"
     ]
    }
   ],
   "source": [
    "# Percentage of employees who received a bonus from the group who left\n",
    "bonus_left = df_yes.groupby('bonus')['left'].count()\n",
    "bonus_left = pd.DataFrame(bonus_left).reset_index()\n",
    "bonus_left = bonus_left.rename(columns={'left':'count'})\n",
    "bonus_left.replace({0:'no', 1:'yes'}, inplace=True)\n",
    "bonus_left['pct'] = (bonus_left['count']*100 / bonus_left['count'].sum()).round(1)\n",
    "print('Left:')\n",
    "print(bonus_left, '\\n')\n",
    "\n",
    "# Percentage of employees who received a bonus from the group who remains\n",
    "bonus_remains = df_no.groupby('bonus')['left'].count()\n",
    "bonus_remains = pd.DataFrame(bonus_remains).reset_index()\n",
    "bonus_remains = bonus_remains.rename(columns={'left':'count'})\n",
    "bonus_remains.replace({0:'no', 1:'yes'}, inplace=True)\n",
    "bonus_remains['pct'] = (bonus_remains['count']*100 / bonus_remains['count'].sum()).round(1)\n",
    "print('Remains:')\n",
    "print(bonus_remains)"
   ]
  },
  {
   "cell_type": "markdown",
   "id": "48f47753-a62f-4dc5-bc2e-65a22047e9ad",
   "metadata": {},
   "source": [
    "<b>21.5%</b> of employees who remains received a bonus recently, just a litte bit higher from those who left and received the bonus (<b>20.5 %</b>). Employees with an economic bonus tend to leave the company less, but the difference is not very significant to declare correlation."
   ]
  },
  {
   "cell_type": "markdown",
   "id": "1ad83a11-1738-4875-aca5-f1d71bab3d20",
   "metadata": {},
   "source": [
    "## Average hours worked in a month"
   ]
  },
  {
   "cell_type": "code",
   "execution_count": 18,
   "id": "da73ea7e-c676-4b71-8810-f813de971c97",
   "metadata": {},
   "outputs": [
    {
     "name": "stdout",
     "output_type": "stream",
     "text": [
      "Max.: 200.8616558715116\n",
      "Min.: 171.37406048199938\n",
      "Median: 184.62879553610867 \n",
      "\n",
      "Mean avg. hours worked in a month grouped by turnover:\n",
      "left\n",
      "0    184.637605\n",
      "1    184.719730\n",
      "Name: avg_hrs_month, dtype: float64 \n",
      "\n",
      "Those who left worked, on average, 0.04 % more hours than those who remains\n"
     ]
    }
   ],
   "source": [
    "# Summary statistics for avg. hours worked per month\n",
    "print('Max.:', df['avg_hrs_month'].max())\n",
    "print('Min.:',df['avg_hrs_month'].min())\n",
    "print('Median:',df['avg_hrs_month'].median(), '\\n')\n",
    "      \n",
    "# Compute the mean of the avg. hours worked per month by type of employee outcome (0: remains, 1: left)\n",
    "avg_hrs_month = df.groupby('left')['avg_hrs_month'].mean()\n",
    "print('Mean avg. hours worked in a month grouped by turnover:')\n",
    "print(avg_hrs_month, '\\n')\n",
    "hrs_increase = (100*(avg_hrs_month[1] - avg_hrs_month[0]) / avg_hrs_month[0]).round(2)\n",
    "# % difference\n",
    "print('Those who left worked, on average,', hrs_increase, '% more hours than those who remains')"
   ]
  },
  {
   "cell_type": "markdown",
   "id": "42b59f68-ceff-4708-9c33-7ec3755a1577",
   "metadata": {},
   "source": [
    "Due to such a low difference in means, this variable <b>doesn't seem to be important at all to predict turnovers.</b>\n",
    "\n",
    "Now that we've studied the realtionship between each variable from our dataset and the target (left or remains), lets compute the correlation between them, to compare our findings from EDA and a statistical computation."
   ]
  },
  {
   "cell_type": "markdown",
   "id": "af0fd09d-c4bb-4e75-bf76-d19f27c5b15e",
   "metadata": {},
   "source": [
    "## Correlation heat map"
   ]
  },
  {
   "cell_type": "code",
   "execution_count": 19,
   "id": "ea9cc000-4db5-4f03-85cc-8e40ff7be854",
   "metadata": {},
   "outputs": [
    {
     "data": {
      "image/png": "[encoded data removed]",
      "text/plain": [
       "<Figure size 432x288 with 2 Axes>"
      ]
     },
     "metadata": {
      "needs_background": "light"
     },
     "output_type": "display_data"
    }
   ],
   "source": [
    "# plotting correlation heatmap\n",
    "dataplot = sns.heatmap(df.corr(), cmap=\"YlGnBu\", annot=True)\n",
    "  \n",
    "# displaying heatmap\n",
    "plt.show()"
   ]
  },
  {
   "cell_type": "markdown",
   "id": "155b5d77-aaba-4016-8595-004d257e5a44",
   "metadata": {},
   "source": [
    "As expected, the variable with the highest correlation with turnovers is <b>reviews</b>, in agreement with the EDA, followed by <b>promotions</b>, and then, with a very low correlation, number of <b>projects, tenure, bonus, satisfaction and average hours worked</b>."
   ]
  },
  {
   "cell_type": "markdown",
   "id": "eb5601f9-16d1-4887-8ced-852015dcf3db",
   "metadata": {},
   "source": [
    "# Predictor variables of turnovers\n",
    "Considering the EDA and correlation map made, let's classify our features in terms of how important are they to predict whether an employee leaves or remains. The Pearson correlation coefficient of each variable vs. 'left' is written in parentheses, and one highlight of our previous analysis is shown for each variable. \n",
    "\n",
    "<u>High level predictor:</u>\n",
    "- <b>review (0.3)</b>: The median review rate is 9.11% lower on those who remains\n",
    "\n",
    "<u>Medidum level predictor:</u>\n",
    "- <b>promoted (-0.037)</b>: Among the workers who stayed, 3.6% received promotions, while of those who left, only 2.1% received promotions recently.\n",
    "\n",
    "<u>Low level predictors:</u>\n",
    "- <b>tenure (0.011)</b>: The average tenure in years for those who left was 6.58 years, while for those who stayed its 6.55.\n",
    "- <b>satisfaction (-0.0097)</b>: The median satisfaction rate is 2.57 % higher on employees who remains\n",
    "- <b>projects (-0.012)</b>: Employees who remain are involved, on average, in 0.48% more projects (3.28) than those who left (3.26).\n",
    "- <b>bonus (-0.011)</b>: 21.5% of employees who remains received a bonus recently, while only 20.5% of those who left received it.\n",
    "- <b>avg_hours_month (0.009)</b>\n",
    "- <b>salary</b>: For those who remains, 16.4% receive a high salary, and for those who left: 15,9%\n",
    "- <b>department</b>: theres only 4% difference from highest (IT) to lowest (finance) turnover for a department."
   ]
  },
  {
   "cell_type": "markdown",
   "id": "1dca3c5c-a098-4f8f-b451-9c095db9d5ab",
   "metadata": {},
   "source": [
    "## Are \"salary\" and \"department\" variables are worth it for model development?\n",
    "Using the correlation matrix for all dummy variables, we're going to check if there's enough correlation to include the features department and salary. \n",
    "\n",
    "The reason for this check is because these two categorical variables require the creation of more variables, which increases the dimensionality of the model. The higher the number of features, the more difficult it is to model them.\n",
    "\n",
    "If we don't find a significant correlation, we won't use them to develop our model."
   ]
  },
  {
   "cell_type": "code",
   "execution_count": 20,
   "id": "bf4a2ae9-9fa1-46a3-a0fc-1acbb93c73c1",
   "metadata": {},
   "outputs": [
    {
     "data": {
      "application/com.datacamp.data-table.v1+json": {
       "is_truncated": false,
       "table": {
        "data": [
         {
          "avg_hrs_month": -0.0021901037,
          "bonus": 0.0010716376,
          "department_IT": -0.0089848178,
          "department_admin": 0.0094652949,
          "department_engineering": -0.018275927,
          "department_finance": 0.0207672516,
          "department_logistics": -0.0125350768,
          "department_marketing": 0.0213889809,
          "department_operations": -0.0018484089,
          "department_retail": 0.0088371249,
          "department_sales": -0.010821501,
          "department_support": 0.001684056,
          "index": "promoted",
          "left": -0.0367771633,
          "projects": 0.0101072064,
          "promoted": 1,
          "review": 0.0018786953,
          "salary_high": -0.0014835233,
          "salary_low": -0.0031900888,
          "salary_medium": 0.0036192712,
          "satisfaction": -0.0117041665,
          "tenure": 0.0014098258
         },
         {
          "avg_hrs_month": -0.1960957002,
          "bonus": -0.003626532,
          "department_IT": -0.0094175864,
          "department_admin": -0.0119708404,
          "department_engineering": -0.0062423881,
          "department_finance": 0.0076417747,
          "department_logistics": 0.0059135873,
          "department_marketing": 0.0208382325,
          "department_operations": 0.0080214018,
          "department_retail": -0.0086151947,
          "department_sales": -0.001135031,
          "department_support": -0.0046055479,
          "index": "review",
          "left": 0.3042941301,
          "projects": 0.0002187253,
          "promoted": 0.0018786953,
          "review": 1,
          "salary_high": -0.0009506513,
          "salary_low": 0.0047732599,
          "salary_medium": -0.0028812646,
          "satisfaction": -0.3497777264,
          "tenure": -0.184133191
         },
         {
          "avg_hrs_month": 0.0212992372,
          "bonus": 0.0026538261,
          "department_IT": 0.0049239352,
          "department_admin": 0.0015313418,
          "department_engineering": -0.0082492609,
          "department_finance": 0.006769074,
          "department_logistics": 5.37669e-05,
          "department_marketing": 0.0029850035,
          "department_operations": -0.0026251446,
          "department_retail": -0.0066559171,
          "department_sales": 0.0097643124,
          "department_support": -0.0034003434,
          "index": "projects",
          "left": -0.0124077218,
          "projects": 1,
          "promoted": 0.0101072064,
          "review": 0.0002187253,
          "salary_high": -0.0110248665,
          "salary_low": 0.0213191227,
          "salary_medium": -0.0074502706,
          "satisfaction": 0.0027143626,
          "tenure": 0.0225956996
         },
         {
          "avg_hrs_month": 0.9786178937,
          "bonus": -0.0003915721,
          "department_IT": 0.0074234898,
          "department_admin": -0.0087304473,
          "department_engineering": 0.0005721401,
          "department_finance": -0.0171732357,
          "department_logistics": -0.0039745193,
          "department_marketing": -0.0112255962,
          "department_operations": 0.0160764701,
          "department_retail": 0.0108508095,
          "department_sales": -0.0071256711,
          "department_support": 0.0017231592,
          "index": "tenure",
          "left": 0.0105212772,
          "projects": 0.0225956996,
          "promoted": 0.0014098258,
          "review": -0.184133191,
          "salary_high": 0.0076384626,
          "salary_low": -1.91068e-05,
          "salary_medium": -0.0060909906,
          "satisfaction": -0.1462464432,
          "tenure": 1
         },
         {
          "avg_hrs_month": -0.1431418166,
          "bonus": 0.0007041312,
          "department_IT": 0.0138753274,
          "department_admin": 0.0201066285,
          "department_engineering": 0.0008213797,
          "department_finance": -0.0098705494,
          "department_logistics": -0.0144387918,
          "department_marketing": -0.0042684473,
          "department_operations": -6.66358e-05,
          "department_retail": -0.0051927734,
          "department_sales": -0.0003892425,
          "department_support": 0.0035257209,
          "index": "satisfaction",
          "left": -0.0097207013,
          "projects": 0.0027143626,
          "promoted": -0.0117041665,
          "review": -0.3497777264,
          "salary_high": -0.0060559234,
          "salary_low": 0.0007523369,
          "salary_medium": 0.004266715,
          "satisfaction": 1,
          "tenure": -0.1462464432
         },
         {
          "avg_hrs_month": -0.0003699244,
          "bonus": 1,
          "department_IT": 0.004747014,
          "department_admin": -0.0133283836,
          "department_engineering": -0.001034349,
          "department_finance": 0.0098973809,
          "department_logistics": -0.0018027606,
          "department_marketing": 0.0054822264,
          "department_operations": -0.0054252422,
          "department_retail": 0.0071241,
          "department_sales": -0.0001924056,
          "department_support": -0.0056353655,
          "index": "bonus",
          "left": -0.011484739,
          "projects": 0.0026538261,
          "promoted": 0.0010716376,
          "review": -0.003626532,
          "salary_high": 0.0019054857,
          "salary_low": 0.013229843,
          "salary_medium": -0.0116150784,
          "satisfaction": 0.0007041312,
          "tenure": -0.0003915721
         },
         {
          "avg_hrs_month": 1,
          "bonus": -0.0003699244,
          "department_IT": 0.0075708672,
          "department_admin": -0.0064158402,
          "department_engineering": 0.0031872307,
          "department_finance": -0.0144963809,
          "department_logistics": -0.0034232969,
          "department_marketing": -0.0140058772,
          "department_operations": 0.0158138464,
          "department_retail": 0.0077841397,
          "department_sales": -0.0053641485,
          "department_support": -0.0013074508,
          "index": "avg_hrs_month",
          "left": 0.0090078556,
          "projects": 0.0212992372,
          "promoted": -0.0021901037,
          "review": -0.1960957002,
          "salary_high": 0.0111344573,
          "salary_low": -0.000448077,
          "salary_medium": -0.0085581774,
          "satisfaction": -0.1431418166,
          "tenure": 0.9786178937
         },
         {
          "avg_hrs_month": 0.0090078556,
          "bonus": -0.011484739,
          "department_IT": 0.0074339286,
          "department_admin": -0.0049751178,
          "department_engineering": -0.0034089616,
          "department_finance": -0.0106888164,
          "department_logistics": 0.0071916912,
          "department_marketing": 0.007443027,
          "department_operations": -0.005135757,
          "department_retail": 0.0133449377,
          "department_sales": -0.0072439826,
          "department_support": -0.0021535683,
          "index": "left",
          "left": 1,
          "projects": -0.0124077218,
          "promoted": -0.0367771633,
          "review": 0.3042941301,
          "salary_high": -0.0060934898,
          "salary_low": -0.0078696139,
          "salary_medium": 0.0108737386,
          "satisfaction": -0.0097207013,
          "tenure": 0.0105212772
         },
         {
          "avg_hrs_month": 0.0075708672,
          "bonus": 0.004747014,
          "department_IT": 1,
          "department_admin": -0.0424085348,
          "department_engineering": -0.0855782107,
          "department_finance": -0.0412949088,
          "department_logistics": -0.0389887194,
          "department_marketing": -0.0596472225,
          "department_operations": -0.0857794706,
          "department_retail": -0.0864156762,
          "department_sales": -0.0976348578,
          "department_support": -0.056883728,
          "index": "department_IT",
          "left": 0.0074339286,
          "projects": 0.0049239352,
          "promoted": -0.0089848178,
          "review": -0.0094175864,
          "salary_high": 0.001850956,
          "salary_low": -0.0134138523,
          "salary_medium": 0.0087528504,
          "satisfaction": 0.0138753274,
          "tenure": 0.0074234898
         },
         {
          "avg_hrs_month": -0.0064158402,
          "bonus": -0.0133283836,
          "department_IT": -0.0424085348,
          "department_admin": 1,
          "department_engineering": -0.0936264048,
          "department_finance": -0.0451784842,
          "department_logistics": -0.0426554095,
          "department_marketing": -0.0652567394,
          "department_operations": -0.0938465921,
          "department_retail": -0.0945426295,
          "department_sales": -0.1068169179,
          "department_support": -0.0622333523,
          "index": "department_admin",
          "left": -0.0049751178,
          "projects": 0.0015313418,
          "promoted": 0.0094652949,
          "review": -0.0119708404,
          "salary_high": -0.0022619492,
          "salary_low": -0.0162567376,
          "salary_medium": 0.014208982,
          "satisfaction": 0.0201066285,
          "tenure": -0.0087304473
         },
         {
          "avg_hrs_month": 0.0031872307,
          "bonus": -0.001034349,
          "department_IT": -0.0855782107,
          "department_admin": -0.0936264048,
          "department_engineering": 1,
          "department_finance": -0.0911678242,
          "department_logistics": -0.0860763912,
          "department_marketing": -0.1316846957,
          "department_operations": -0.189377527,
          "department_retail": -0.1907820942,
          "department_sales": -0.2155509678,
          "department_support": -0.1255836583,
          "index": "department_engineering",
          "left": -0.0034089616,
          "projects": -0.0082492609,
          "promoted": -0.018275927,
          "review": -0.0062423881,
          "salary_high": -0.0085483975,
          "salary_low": -0.0125934051,
          "salary_medium": 0.0164393942,
          "satisfaction": 0.0008213797,
          "tenure": 0.0005721401
         },
         {
          "avg_hrs_month": -0.0144963809,
          "bonus": 0.0098973809,
          "department_IT": -0.0412949088,
          "department_admin": -0.0451784842,
          "department_engineering": -0.0911678242,
          "department_finance": 1,
          "department_logistics": -0.0415353008,
          "department_marketing": -0.0635431315,
          "department_operations": -0.0913822296,
          "department_retail": -0.0920599894,
          "department_sales": -0.1040119614,
          "department_support": -0.060599137,
          "index": "department_finance",
          "left": -0.0106888164,
          "projects": 0.006769074,
          "promoted": 0.0207672516,
          "review": 0.0076417747,
          "salary_high": 0.0067499065,
          "salary_low": -0.0002863095,
          "salary_medium": -0.0051769236,
          "satisfaction": -0.0098705494,
          "tenure": -0.0171732357
         },
         {
          "avg_hrs_month": -0.0034232969,
          "bonus": -0.0018027606,
          "department_IT": -0.0389887194,
          "department_admin": -0.0426554095,
          "department_engineering": -0.0860763912,
          "department_finance": -0.0415353008,
          "department_logistics": 1,
          "department_marketing": -0.0599944496,
          "department_operations": -0.0862788226,
          "department_retail": -0.0869187317,
          "department_sales": -0.0982032241,
          "department_support": -0.0572148678,
          "index": "department_logistics",
          "left": 0.0071916912,
          "projects": 5.37669e-05,
          "promoted": -0.0125350768,
          "review": 0.0059135873,
          "salary_high": -0.0110631614,
          "salary_low": -0.0033037154,
          "salary_medium": 0.0113631314,
          "satisfaction": -0.0144387918,
          "tenure": -0.0039745193
         },
         {
          "avg_hrs_month": -0.0140058772,
          "bonus": 0.0054822264,
          "department_IT": -0.0596472225,
          "department_admin": -0.0652567394,
          "department_engineering": -0.1316846957,
          "department_finance": -0.0635431315,
          "department_logistics": -0.0599944496,
          "department_marketing": 1,
          "department_operations": -0.1319943872,
          "department_retail": -0.1329733576,
          "department_sales": -0.1502370338,
          "department_support": -0.08753065,
          "index": "department_marketing",
          "left": 0.007443027,
          "projects": 0.0029850035,
          "promoted": 0.0213889809,
          "review": 0.0208382325,
          "salary_high": 0.003959096,
          "salary_low": 0.0235152983,
          "salary_medium": -0.021102518,
          "satisfaction": -0.0042684473,
          "tenure": -0.0112255962
         },
         {
          "avg_hrs_month": 0.0158138464,
          "bonus": -0.0054252422,
          "department_IT": -0.0857794706,
          "department_admin": -0.0938465921,
          "department_engineering": -0.189377527,
          "department_finance": -0.0913822296,
          "department_logistics": -0.0862788226,
          "department_marketing": -0.1319943872,
          "department_operations": 1,
          "department_retail": -0.1912307689,
          "department_sales": -0.2160578931,
          "department_support": -0.1258790016,
          "index": "department_operations",
          "left": -0.005135757,
          "projects": -0.0026251446,
          "promoted": -0.0018484089,
          "review": 0.0080214018,
          "salary_high": -0.0054085473,
          "salary_low": 0.0005507346,
          "salary_medium": 0.0039030414,
          "satisfaction": -6.66358e-05,
          "tenure": 0.0160764701
         },
         {
          "avg_hrs_month": 0.0077841397,
          "bonus": 0.0071241,
          "department_IT": -0.0864156762,
          "department_admin": -0.0945426295,
          "department_engineering": -0.1907820942,
          "department_finance": -0.0920599894,
          "department_logistics": -0.0869187317,
          "department_marketing": -0.1329733576,
          "department_operations": -0.1912307689,
          "department_retail": 1,
          "department_sales": -0.2176603421,
          "department_support": -0.1268126156,
          "index": "department_retail",
          "left": 0.0133449377,
          "projects": -0.0066559171,
          "promoted": 0.0088371249,
          "review": -0.0086151947,
          "salary_high": -0.0008104289,
          "salary_low": 0.0056069798,
          "salary_medium": -0.0036293251,
          "satisfaction": -0.0051927734,
          "tenure": 0.0108508095
         },
         {
          "avg_hrs_month": -0.0053641485,
          "bonus": -0.0001924056,
          "department_IT": -0.0976348578,
          "department_admin": -0.1068169179,
          "department_engineering": -0.2155509678,
          "department_finance": -0.1040119614,
          "department_logistics": -0.0982032241,
          "department_marketing": -0.1502370338,
          "department_operations": -0.2160578931,
          "department_retail": -0.2176603421,
          "department_sales": 1,
          "department_support": -0.1432764545,
          "index": "department_sales",
          "left": -0.0072439826,
          "projects": 0.0097643124,
          "promoted": -0.010821501,
          "review": -0.001135031,
          "salary_high": 0.0031833523,
          "salary_low": 0.012289227,
          "salary_medium": -0.0119189804,
          "satisfaction": -0.0003892425,
          "tenure": -0.0071256711
         },
         {
          "avg_hrs_month": -0.0013074508,
          "bonus": -0.0056353655,
          "department_IT": -0.056883728,
          "department_admin": -0.0622333523,
          "department_engineering": -0.1255836583,
          "department_finance": -0.060599137,
          "department_logistics": -0.0572148678,
          "department_marketing": -0.08753065,
          "department_operations": -0.1258790016,
          "department_retail": -0.1268126156,
          "department_sales": -0.1432764545,
          "department_support": 1,
          "index": "department_support",
          "left": -0.0021535683,
          "projects": -0.0034003434,
          "promoted": 0.001684056,
          "review": -0.0046055479,
          "salary_high": 0.014644762,
          "salary_low": -0.0093818866,
          "salary_medium": -0.0045491413,
          "satisfaction": 0.0035257209,
          "tenure": 0.0017231592
         },
         {
          "avg_hrs_month": 0.0111344573,
          "bonus": 0.0019054857,
          "department_IT": 0.001850956,
          "department_admin": -0.0022619492,
          "department_engineering": -0.0085483975,
          "department_finance": 0.0067499065,
          "department_logistics": -0.0110631614,
          "department_marketing": 0.003959096,
          "department_operations": -0.0054085473,
          "department_retail": -0.0008104289,
          "department_sales": 0.0031833523,
          "department_support": 0.014644762,
          "index": "salary_high",
          "left": -0.0060934898,
          "projects": -0.0110248665,
          "promoted": -0.0014835233,
          "review": -0.0009506513,
          "salary_high": 1,
          "salary_low": -0.1810656689,
          "salary_medium": -0.6611981554,
          "satisfaction": -0.0060559234,
          "tenure": 0.0076384626
         },
         {
          "avg_hrs_month": -0.000448077,
          "bonus": 0.013229843,
          "department_IT": -0.0134138523,
          "department_admin": -0.0162567376,
          "department_engineering": -0.0125934051,
          "department_finance": -0.0002863095,
          "department_logistics": -0.0033037154,
          "department_marketing": 0.0235152983,
          "department_operations": 0.0005507346,
          "department_retail": 0.0056069798,
          "department_sales": 0.012289227,
          "department_support": -0.0093818866,
          "index": "salary_low",
          "left": -0.0078696139,
          "projects": 0.0213191227,
          "promoted": -0.0031900888,
          "review": 0.0047732599,
          "salary_high": -0.1810656689,
          "salary_low": 1,
          "salary_medium": -0.6180907802,
          "satisfaction": 0.0007523369,
          "tenure": -1.91068e-05
         },
         {
          "avg_hrs_month": -0.0085581774,
          "bonus": -0.0116150784,
          "department_IT": 0.0087528504,
          "department_admin": 0.014208982,
          "department_engineering": 0.0164393942,
          "department_finance": -0.0051769236,
          "department_logistics": 0.0113631314,
          "department_marketing": -0.021102518,
          "department_operations": 0.0039030414,
          "department_retail": -0.0036293251,
          "department_sales": -0.0119189804,
          "department_support": -0.0045491413,
          "index": "salary_medium",
          "left": 0.0108737386,
          "projects": -0.0074502706,
          "promoted": 0.0036192712,
          "review": -0.0028812646,
          "salary_high": -0.6611981554,
          "salary_low": -0.6180907802,
          "salary_medium": 1,
          "satisfaction": 0.004266715,
          "tenure": -0.0060909906
         }
        ],
        "schema": {
         "fields": [
          {
           "name": "index",
           "type": "string"
          },
          {
           "name": "promoted",
           "type": "number"
          },
          {
           "name": "review",
           "type": "number"
          },
          {
           "name": "projects",
           "type": "number"
          },
          {
           "name": "tenure",
           "type": "number"
          },
          {
           "name": "satisfaction",
           "type": "number"
          },
          {
           "name": "bonus",
           "type": "number"
          },
          {
           "name": "avg_hrs_month",
           "type": "number"
          },
          {
           "name": "left",
           "type": "number"
          },
          {
           "name": "department_IT",
           "type": "number"
          },
          {
           "name": "department_admin",
           "type": "number"
          },
          {
           "name": "department_engineering",
           "type": "number"
          },
          {
           "name": "department_finance",
           "type": "number"
          },
          {
           "name": "department_logistics",
           "type": "number"
          },
          {
           "name": "department_marketing",
           "type": "number"
          },
          {
           "name": "department_operations",
           "type": "number"
          },
          {
           "name": "department_retail",
           "type": "number"
          },
          {
           "name": "department_sales",
           "type": "number"
          },
          {
           "name": "department_support",
           "type": "number"
          },
          {
           "name": "salary_high",
           "type": "number"
          },
          {
           "name": "salary_low",
           "type": "number"
          },
          {
           "name": "salary_medium",
           "type": "number"
          }
         ],
         "pandas_version": "0.20.0",
         "primaryKey": [
          "index"
         ]
        }
       }
      },
      "text/html": [
       "<div>\n",
       "<style scoped>\n",
       "    .dataframe tbody tr th:only-of-type {\n",
       "        vertical-align: middle;\n",
       "    }\n",
       "\n",
       "    .dataframe tbody tr th {\n",
       "        vertical-align: top;\n",
       "    }\n",
       "\n",
       "    .dataframe thead th {\n",
       "        text-align: right;\n",
       "    }\n",
       "</style>\n",
       "<table border=\"1\" class=\"dataframe\">\n",
       "  <thead>\n",
       "    <tr style=\"text-align: right;\">\n",
       "      <th></th>\n",
       "      <th>promoted</th>\n",
       "      <th>review</th>\n",
       "      <th>projects</th>\n",
       "      <th>tenure</th>\n",
       "      <th>satisfaction</th>\n",
       "      <th>bonus</th>\n",
       "      <th>avg_hrs_month</th>\n",
       "      <th>left</th>\n",
       "      <th>department_IT</th>\n",
       "      <th>department_admin</th>\n",
       "      <th>...</th>\n",
       "      <th>department_finance</th>\n",
       "      <th>department_logistics</th>\n",
       "      <th>department_marketing</th>\n",
       "      <th>department_operations</th>\n",
       "      <th>department_retail</th>\n",
       "      <th>department_sales</th>\n",
       "      <th>department_support</th>\n",
       "      <th>salary_high</th>\n",
       "      <th>salary_low</th>\n",
       "      <th>salary_medium</th>\n",
       "    </tr>\n",
       "  </thead>\n",
       "  <tbody>\n",
       "    <tr>\n",
       "      <th>promoted</th>\n",
       "      <td>1.000000</td>\n",
       "      <td>0.001879</td>\n",
       "      <td>0.010107</td>\n",
       "      <td>0.001410</td>\n",
       "      <td>-0.011704</td>\n",
       "      <td>0.001072</td>\n",
       "      <td>-0.002190</td>\n",
       "      <td>-0.036777</td>\n",
       "      <td>-0.008985</td>\n",
       "      <td>0.009465</td>\n",
       "      <td>...</td>\n",
       "      <td>0.020767</td>\n",
       "      <td>-0.012535</td>\n",
       "      <td>0.021389</td>\n",
       "      <td>-0.001848</td>\n",
       "      <td>0.008837</td>\n",
       "      <td>-0.010822</td>\n",
       "      <td>0.001684</td>\n",
       "      <td>-0.001484</td>\n",
       "      <td>-0.003190</td>\n",
       "      <td>0.003619</td>\n",
       "    </tr>\n",
       "    <tr>\n",
       "      <th>review</th>\n",
       "      <td>0.001879</td>\n",
       "      <td>1.000000</td>\n",
       "      <td>0.000219</td>\n",
       "      <td>-0.184133</td>\n",
       "      <td>-0.349778</td>\n",
       "      <td>-0.003627</td>\n",
       "      <td>-0.196096</td>\n",
       "      <td>0.304294</td>\n",
       "      <td>-0.009418</td>\n",
       "      <td>-0.011971</td>\n",
       "      <td>...</td>\n",
       "      <td>0.007642</td>\n",
       "      <td>0.005914</td>\n",
       "      <td>0.020838</td>\n",
       "      <td>0.008021</td>\n",
       "      <td>-0.008615</td>\n",
       "      <td>-0.001135</td>\n",
       "      <td>-0.004606</td>\n",
       "      <td>-0.000951</td>\n",
       "      <td>0.004773</td>\n",
       "      <td>-0.002881</td>\n",
       "    </tr>\n",
       "    <tr>\n",
       "      <th>projects</th>\n",
       "      <td>0.010107</td>\n",
       "      <td>0.000219</td>\n",
       "      <td>1.000000</td>\n",
       "      <td>0.022596</td>\n",
       "      <td>0.002714</td>\n",
       "      <td>0.002654</td>\n",
       "      <td>0.021299</td>\n",
       "      <td>-0.012408</td>\n",
       "      <td>0.004924</td>\n",
       "      <td>0.001531</td>\n",
       "      <td>...</td>\n",
       "      <td>0.006769</td>\n",
       "      <td>0.000054</td>\n",
       "      <td>0.002985</td>\n",
       "      <td>-0.002625</td>\n",
       "      <td>-0.006656</td>\n",
       "      <td>0.009764</td>\n",
       "      <td>-0.003400</td>\n",
       "      <td>-0.011025</td>\n",
       "      <td>0.021319</td>\n",
       "      <td>-0.007450</td>\n",
       "    </tr>\n",
       "    <tr>\n",
       "      <th>tenure</th>\n",
       "      <td>0.001410</td>\n",
       "      <td>-0.184133</td>\n",
       "      <td>0.022596</td>\n",
       "      <td>1.000000</td>\n",
       "      <td>-0.146246</td>\n",
       "      <td>-0.000392</td>\n",
       "      <td>0.978618</td>\n",
       "      <td>0.010521</td>\n",
       "      <td>0.007423</td>\n",
       "      <td>-0.008730</td>\n",
       "      <td>...</td>\n",
       "      <td>-0.017173</td>\n",
       "      <td>-0.003975</td>\n",
       "      <td>-0.011226</td>\n",
       "      <td>0.016076</td>\n",
       "      <td>0.010851</td>\n",
       "      <td>-0.007126</td>\n",
       "      <td>0.001723</td>\n",
       "      <td>0.007638</td>\n",
       "      <td>-0.000019</td>\n",
       "      <td>-0.006091</td>\n",
       "    </tr>\n",
       "    <tr>\n",
       "      <th>satisfaction</th>\n",
       "      <td>-0.011704</td>\n",
       "      <td>-0.349778</td>\n",
       "      <td>0.002714</td>\n",
       "      <td>-0.146246</td>\n",
       "      <td>1.000000</td>\n",
       "      <td>0.000704</td>\n",
       "      <td>-0.143142</td>\n",
       "      <td>-0.009721</td>\n",
       "      <td>0.013875</td>\n",
       "      <td>0.020107</td>\n",
       "      <td>...</td>\n",
       "      <td>-0.009871</td>\n",
       "      <td>-0.014439</td>\n",
       "      <td>-0.004268</td>\n",
       "      <td>-0.000067</td>\n",
       "      <td>-0.005193</td>\n",
       "      <td>-0.000389</td>\n",
       "      <td>0.003526</td>\n",
       "      <td>-0.006056</td>\n",
       "      <td>0.000752</td>\n",
       "      <td>0.004267</td>\n",
       "    </tr>\n",
       "    <tr>\n",
       "      <th>bonus</th>\n",
       "      <td>0.001072</td>\n",
       "      <td>-0.003627</td>\n",
       "      <td>0.002654</td>\n",
       "      <td>-0.000392</td>\n",
       "      <td>0.000704</td>\n",
       "      <td>1.000000</td>\n",
       "      <td>-0.000370</td>\n",
       "      <td>-0.011485</td>\n",
       "      <td>0.004747</td>\n",
       "      <td>-0.013328</td>\n",
       "      <td>...</td>\n",
       "      <td>0.009897</td>\n",
       "      <td>-0.001803</td>\n",
       "      <td>0.005482</td>\n",
       "      <td>-0.005425</td>\n",
       "      <td>0.007124</td>\n",
       "      <td>-0.000192</td>\n",
       "      <td>-0.005635</td>\n",
       "      <td>0.001905</td>\n",
       "      <td>0.013230</td>\n",
       "      <td>-0.011615</td>\n",
       "    </tr>\n",
       "    <tr>\n",
       "      <th>avg_hrs_month</th>\n",
       "      <td>-0.002190</td>\n",
       "      <td>-0.196096</td>\n",
       "      <td>0.021299</td>\n",
       "      <td>0.978618</td>\n",
       "      <td>-0.143142</td>\n",
       "      <td>-0.000370</td>\n",
       "      <td>1.000000</td>\n",
       "      <td>0.009008</td>\n",
       "      <td>0.007571</td>\n",
       "      <td>-0.006416</td>\n",
       "      <td>...</td>\n",
       "      <td>-0.014496</td>\n",
       "      <td>-0.003423</td>\n",
       "      <td>-0.014006</td>\n",
       "      <td>0.015814</td>\n",
       "      <td>0.007784</td>\n",
       "      <td>-0.005364</td>\n",
       "      <td>-0.001307</td>\n",
       "      <td>0.011134</td>\n",
       "      <td>-0.000448</td>\n",
       "      <td>-0.008558</td>\n",
       "    </tr>\n",
       "    <tr>\n",
       "      <th>left</th>\n",
       "      <td>-0.036777</td>\n",
       "      <td>0.304294</td>\n",
       "      <td>-0.012408</td>\n",
       "      <td>0.010521</td>\n",
       "      <td>-0.009721</td>\n",
       "      <td>-0.011485</td>\n",
       "      <td>0.009008</td>\n",
       "      <td>1.000000</td>\n",
       "      <td>0.007434</td>\n",
       "      <td>-0.004975</td>\n",
       "      <td>...</td>\n",
       "      <td>-0.010689</td>\n",
       "      <td>0.007192</td>\n",
       "      <td>0.007443</td>\n",
       "      <td>-0.005136</td>\n",
       "      <td>0.013345</td>\n",
       "      <td>-0.007244</td>\n",
       "      <td>-0.002154</td>\n",
       "      <td>-0.006093</td>\n",
       "      <td>-0.007870</td>\n",
       "      <td>0.010874</td>\n",
       "    </tr>\n",
       "    <tr>\n",
       "      <th>department_IT</th>\n",
       "      <td>-0.008985</td>\n",
       "      <td>-0.009418</td>\n",
       "      <td>0.004924</td>\n",
       "      <td>0.007423</td>\n",
       "      <td>0.013875</td>\n",
       "      <td>0.004747</td>\n",
       "      <td>0.007571</td>\n",
       "      <td>0.007434</td>\n",
       "      <td>1.000000</td>\n",
       "      <td>-0.042409</td>\n",
       "      <td>...</td>\n",
       "      <td>-0.041295</td>\n",
       "      <td>-0.038989</td>\n",
       "      <td>-0.059647</td>\n",
       "      <td>-0.085779</td>\n",
       "      <td>-0.086416</td>\n",
       "      <td>-0.097635</td>\n",
       "      <td>-0.056884</td>\n",
       "      <td>0.001851</td>\n",
       "      <td>-0.013414</td>\n",
       "      <td>0.008753</td>\n",
       "    </tr>\n",
       "    <tr>\n",
       "      <th>department_admin</th>\n",
       "      <td>0.009465</td>\n",
       "      <td>-0.011971</td>\n",
       "      <td>0.001531</td>\n",
       "      <td>-0.008730</td>\n",
       "      <td>0.020107</td>\n",
       "      <td>-0.013328</td>\n",
       "      <td>-0.006416</td>\n",
       "      <td>-0.004975</td>\n",
       "      <td>-0.042409</td>\n",
       "      <td>1.000000</td>\n",
       "      <td>...</td>\n",
       "      <td>-0.045178</td>\n",
       "      <td>-0.042655</td>\n",
       "      <td>-0.065257</td>\n",
       "      <td>-0.093847</td>\n",
       "      <td>-0.094543</td>\n",
       "      <td>-0.106817</td>\n",
       "      <td>-0.062233</td>\n",
       "      <td>-0.002262</td>\n",
       "      <td>-0.016257</td>\n",
       "      <td>0.014209</td>\n",
       "    </tr>\n",
       "    <tr>\n",
       "      <th>department_engineering</th>\n",
       "      <td>-0.018276</td>\n",
       "      <td>-0.006242</td>\n",
       "      <td>-0.008249</td>\n",
       "      <td>0.000572</td>\n",
       "      <td>0.000821</td>\n",
       "      <td>-0.001034</td>\n",
       "      <td>0.003187</td>\n",
       "      <td>-0.003409</td>\n",
       "      <td>-0.085578</td>\n",
       "      <td>-0.093626</td>\n",
       "      <td>...</td>\n",
       "      <td>-0.091168</td>\n",
       "      <td>-0.086076</td>\n",
       "      <td>-0.131685</td>\n",
       "      <td>-0.189378</td>\n",
       "      <td>-0.190782</td>\n",
       "      <td>-0.215551</td>\n",
       "      <td>-0.125584</td>\n",
       "      <td>-0.008548</td>\n",
       "      <td>-0.012593</td>\n",
       "      <td>0.016439</td>\n",
       "    </tr>\n",
       "    <tr>\n",
       "      <th>department_finance</th>\n",
       "      <td>0.020767</td>\n",
       "      <td>0.007642</td>\n",
       "      <td>0.006769</td>\n",
       "      <td>-0.017173</td>\n",
       "      <td>-0.009871</td>\n",
       "      <td>0.009897</td>\n",
       "      <td>-0.014496</td>\n",
       "      <td>-0.010689</td>\n",
       "      <td>-0.041295</td>\n",
       "      <td>-0.045178</td>\n",
       "      <td>...</td>\n",
       "      <td>1.000000</td>\n",
       "      <td>-0.041535</td>\n",
       "      <td>-0.063543</td>\n",
       "      <td>-0.091382</td>\n",
       "      <td>-0.092060</td>\n",
       "      <td>-0.104012</td>\n",
       "      <td>-0.060599</td>\n",
       "      <td>0.006750</td>\n",
       "      <td>-0.000286</td>\n",
       "      <td>-0.005177</td>\n",
       "    </tr>\n",
       "    <tr>\n",
       "      <th>department_logistics</th>\n",
       "      <td>-0.012535</td>\n",
       "      <td>0.005914</td>\n",
       "      <td>0.000054</td>\n",
       "      <td>-0.003975</td>\n",
       "      <td>-0.014439</td>\n",
       "      <td>-0.001803</td>\n",
       "      <td>-0.003423</td>\n",
       "      <td>0.007192</td>\n",
       "      <td>-0.038989</td>\n",
       "      <td>-0.042655</td>\n",
       "      <td>...</td>\n",
       "      <td>-0.041535</td>\n",
       "      <td>1.000000</td>\n",
       "      <td>-0.059994</td>\n",
       "      <td>-0.086279</td>\n",
       "      <td>-0.086919</td>\n",
       "      <td>-0.098203</td>\n",
       "      <td>-0.057215</td>\n",
       "      <td>-0.011063</td>\n",
       "      <td>-0.003304</td>\n",
       "      <td>0.011363</td>\n",
       "    </tr>\n",
       "    <tr>\n",
       "      <th>department_marketing</th>\n",
       "      <td>0.021389</td>\n",
       "      <td>0.020838</td>\n",
       "      <td>0.002985</td>\n",
       "      <td>-0.011226</td>\n",
       "      <td>-0.004268</td>\n",
       "      <td>0.005482</td>\n",
       "      <td>-0.014006</td>\n",
       "      <td>0.007443</td>\n",
       "      <td>-0.059647</td>\n",
       "      <td>-0.065257</td>\n",
       "      <td>...</td>\n",
       "      <td>-0.063543</td>\n",
       "      <td>-0.059994</td>\n",
       "      <td>1.000000</td>\n",
       "      <td>-0.131994</td>\n",
       "      <td>-0.132973</td>\n",
       "      <td>-0.150237</td>\n",
       "      <td>-0.087531</td>\n",
       "      <td>0.003959</td>\n",
       "      <td>0.023515</td>\n",
       "      <td>-0.021103</td>\n",
       "    </tr>\n",
       "    <tr>\n",
       "      <th>department_operations</th>\n",
       "      <td>-0.001848</td>\n",
       "      <td>0.008021</td>\n",
       "      <td>-0.002625</td>\n",
       "      <td>0.016076</td>\n",
       "      <td>-0.000067</td>\n",
       "      <td>-0.005425</td>\n",
       "      <td>0.015814</td>\n",
       "      <td>-0.005136</td>\n",
       "      <td>-0.085779</td>\n",
       "      <td>-0.093847</td>\n",
       "      <td>...</td>\n",
       "      <td>-0.091382</td>\n",
       "      <td>-0.086279</td>\n",
       "      <td>-0.131994</td>\n",
       "      <td>1.000000</td>\n",
       "      <td>-0.191231</td>\n",
       "      <td>-0.216058</td>\n",
       "      <td>-0.125879</td>\n",
       "      <td>-0.005409</td>\n",
       "      <td>0.000551</td>\n",
       "      <td>0.003903</td>\n",
       "    </tr>\n",
       "    <tr>\n",
       "      <th>department_retail</th>\n",
       "      <td>0.008837</td>\n",
       "      <td>-0.008615</td>\n",
       "      <td>-0.006656</td>\n",
       "      <td>0.010851</td>\n",
       "      <td>-0.005193</td>\n",
       "      <td>0.007124</td>\n",
       "      <td>0.007784</td>\n",
       "      <td>0.013345</td>\n",
       "      <td>-0.086416</td>\n",
       "      <td>-0.094543</td>\n",
       "      <td>...</td>\n",
       "      <td>-0.092060</td>\n",
       "      <td>-0.086919</td>\n",
       "      <td>-0.132973</td>\n",
       "      <td>-0.191231</td>\n",
       "      <td>1.000000</td>\n",
       "      <td>-0.217660</td>\n",
       "      <td>-0.126813</td>\n",
       "      <td>-0.000810</td>\n",
       "      <td>0.005607</td>\n",
       "      <td>-0.003629</td>\n",
       "    </tr>\n",
       "    <tr>\n",
       "      <th>department_sales</th>\n",
       "      <td>-0.010822</td>\n",
       "      <td>-0.001135</td>\n",
       "      <td>0.009764</td>\n",
       "      <td>-0.007126</td>\n",
       "      <td>-0.000389</td>\n",
       "      <td>-0.000192</td>\n",
       "      <td>-0.005364</td>\n",
       "      <td>-0.007244</td>\n",
       "      <td>-0.097635</td>\n",
       "      <td>-0.106817</td>\n",
       "      <td>...</td>\n",
       "      <td>-0.104012</td>\n",
       "      <td>-0.098203</td>\n",
       "      <td>-0.150237</td>\n",
       "      <td>-0.216058</td>\n",
       "      <td>-0.217660</td>\n",
       "      <td>1.000000</td>\n",
       "      <td>-0.143276</td>\n",
       "      <td>0.003183</td>\n",
       "      <td>0.012289</td>\n",
       "      <td>-0.011919</td>\n",
       "    </tr>\n",
       "    <tr>\n",
       "      <th>department_support</th>\n",
       "      <td>0.001684</td>\n",
       "      <td>-0.004606</td>\n",
       "      <td>-0.003400</td>\n",
       "      <td>0.001723</td>\n",
       "      <td>0.003526</td>\n",
       "      <td>-0.005635</td>\n",
       "      <td>-0.001307</td>\n",
       "      <td>-0.002154</td>\n",
       "      <td>-0.056884</td>\n",
       "      <td>-0.062233</td>\n",
       "      <td>...</td>\n",
       "      <td>-0.060599</td>\n",
       "      <td>-0.057215</td>\n",
       "      <td>-0.087531</td>\n",
       "      <td>-0.125879</td>\n",
       "      <td>-0.126813</td>\n",
       "      <td>-0.143276</td>\n",
       "      <td>1.000000</td>\n",
       "      <td>0.014645</td>\n",
       "      <td>-0.009382</td>\n",
       "      <td>-0.004549</td>\n",
       "    </tr>\n",
       "    <tr>\n",
       "      <th>salary_high</th>\n",
       "      <td>-0.001484</td>\n",
       "      <td>-0.000951</td>\n",
       "      <td>-0.011025</td>\n",
       "      <td>0.007638</td>\n",
       "      <td>-0.006056</td>\n",
       "      <td>0.001905</td>\n",
       "      <td>0.011134</td>\n",
       "      <td>-0.006093</td>\n",
       "      <td>0.001851</td>\n",
       "      <td>-0.002262</td>\n",
       "      <td>...</td>\n",
       "      <td>0.006750</td>\n",
       "      <td>-0.011063</td>\n",
       "      <td>0.003959</td>\n",
       "      <td>-0.005409</td>\n",
       "      <td>-0.000810</td>\n",
       "      <td>0.003183</td>\n",
       "      <td>0.014645</td>\n",
       "      <td>1.000000</td>\n",
       "      <td>-0.181066</td>\n",
       "      <td>-0.661198</td>\n",
       "    </tr>\n",
       "    <tr>\n",
       "      <th>salary_low</th>\n",
       "      <td>-0.003190</td>\n",
       "      <td>0.004773</td>\n",
       "      <td>0.021319</td>\n",
       "      <td>-0.000019</td>\n",
       "      <td>0.000752</td>\n",
       "      <td>0.013230</td>\n",
       "      <td>-0.000448</td>\n",
       "      <td>-0.007870</td>\n",
       "      <td>-0.013414</td>\n",
       "      <td>-0.016257</td>\n",
       "      <td>...</td>\n",
       "      <td>-0.000286</td>\n",
       "      <td>-0.003304</td>\n",
       "      <td>0.023515</td>\n",
       "      <td>0.000551</td>\n",
       "      <td>0.005607</td>\n",
       "      <td>0.012289</td>\n",
       "      <td>-0.009382</td>\n",
       "      <td>-0.181066</td>\n",
       "      <td>1.000000</td>\n",
       "      <td>-0.618091</td>\n",
       "    </tr>\n",
       "    <tr>\n",
       "      <th>salary_medium</th>\n",
       "      <td>0.003619</td>\n",
       "      <td>-0.002881</td>\n",
       "      <td>-0.007450</td>\n",
       "      <td>-0.006091</td>\n",
       "      <td>0.004267</td>\n",
       "      <td>-0.011615</td>\n",
       "      <td>-0.008558</td>\n",
       "      <td>0.010874</td>\n",
       "      <td>0.008753</td>\n",
       "      <td>0.014209</td>\n",
       "      <td>...</td>\n",
       "      <td>-0.005177</td>\n",
       "      <td>0.011363</td>\n",
       "      <td>-0.021103</td>\n",
       "      <td>0.003903</td>\n",
       "      <td>-0.003629</td>\n",
       "      <td>-0.011919</td>\n",
       "      <td>-0.004549</td>\n",
       "      <td>-0.661198</td>\n",
       "      <td>-0.618091</td>\n",
       "      <td>1.000000</td>\n",
       "    </tr>\n",
       "  </tbody>\n",
       "</table>\n",
       "<p>21 rows × 21 columns</p>\n",
       "</div>"
      ],
      "text/plain": [
       "                        promoted    review  projects    tenure  satisfaction  \\\n",
       "promoted                1.000000  0.001879  0.010107  0.001410     -0.011704   \n",
       "review                  0.001879  1.000000  0.000219 -0.184133     -0.349778   \n",
       "projects                0.010107  0.000219  1.000000  0.022596      0.002714   \n",
       "tenure                  0.001410 -0.184133  0.022596  1.000000     -0.146246   \n",
       "satisfaction           -0.011704 -0.349778  0.002714 -0.146246      1.000000   \n",
       "bonus                   0.001072 -0.003627  0.002654 -0.000392      0.000704   \n",
       "avg_hrs_month          -0.002190 -0.196096  0.021299  0.978618     -0.143142   \n",
       "left                   -0.036777  0.304294 -0.012408  0.010521     -0.009721   \n",
       "department_IT          -0.008985 -0.009418  0.004924  0.007423      0.013875   \n",
       "department_admin        0.009465 -0.011971  0.001531 -0.008730      0.020107   \n",
       "department_engineering -0.018276 -0.006242 -0.008249  0.000572      0.000821   \n",
       "department_finance      0.020767  0.007642  0.006769 -0.017173     -0.009871   \n",
       "department_logistics   -0.012535  0.005914  0.000054 -0.003975     -0.014439   \n",
       "department_marketing    0.021389  0.020838  0.002985 -0.011226     -0.004268   \n",
       "department_operations  -0.001848  0.008021 -0.002625  0.016076     -0.000067   \n",
       "department_retail       0.008837 -0.008615 -0.006656  0.010851     -0.005193   \n",
       "department_sales       -0.010822 -0.001135  0.009764 -0.007126     -0.000389   \n",
       "department_support      0.001684 -0.004606 -0.003400  0.001723      0.003526   \n",
       "salary_high            -0.001484 -0.000951 -0.011025  0.007638     -0.006056   \n",
       "salary_low             -0.003190  0.004773  0.021319 -0.000019      0.000752   \n",
       "salary_medium           0.003619 -0.002881 -0.007450 -0.006091      0.004267   \n",
       "\n",
       "                           bonus  avg_hrs_month      left  department_IT  \\\n",
       "promoted                0.001072      -0.002190 -0.036777      -0.008985   \n",
       "review                 -0.003627      -0.196096  0.304294      -0.009418   \n",
       "projects                0.002654       0.021299 -0.012408       0.004924   \n",
       "tenure                 -0.000392       0.978618  0.010521       0.007423   \n",
       "satisfaction            0.000704      -0.143142 -0.009721       0.013875   \n",
       "bonus                   1.000000      -0.000370 -0.011485       0.004747   \n",
       "avg_hrs_month          -0.000370       1.000000  0.009008       0.007571   \n",
       "left                   -0.011485       0.009008  1.000000       0.007434   \n",
       "department_IT           0.004747       0.007571  0.007434       1.000000   \n",
       "department_admin       -0.013328      -0.006416 -0.004975      -0.042409   \n",
       "department_engineering -0.001034       0.003187 -0.003409      -0.085578   \n",
       "department_finance      0.009897      -0.014496 -0.010689      -0.041295   \n",
       "department_logistics   -0.001803      -0.003423  0.007192      -0.038989   \n",
       "department_marketing    0.005482      -0.014006  0.007443      -0.059647   \n",
       "department_operations  -0.005425       0.015814 -0.005136      -0.085779   \n",
       "department_retail       0.007124       0.007784  0.013345      -0.086416   \n",
       "department_sales       -0.000192      -0.005364 -0.007244      -0.097635   \n",
       "department_support     -0.005635      -0.001307 -0.002154      -0.056884   \n",
       "salary_high             0.001905       0.011134 -0.006093       0.001851   \n",
       "salary_low              0.013230      -0.000448 -0.007870      -0.013414   \n",
       "salary_medium          -0.011615      -0.008558  0.010874       0.008753   \n",
       "\n",
       "                        department_admin  ...  department_finance  \\\n",
       "promoted                        0.009465  ...            0.020767   \n",
       "review                         -0.011971  ...            0.007642   \n",
       "projects                        0.001531  ...            0.006769   \n",
       "tenure                         -0.008730  ...           -0.017173   \n",
       "satisfaction                    0.020107  ...           -0.009871   \n",
       "bonus                          -0.013328  ...            0.009897   \n",
       "avg_hrs_month                  -0.006416  ...           -0.014496   \n",
       "left                           -0.004975  ...           -0.010689   \n",
       "department_IT                  -0.042409  ...           -0.041295   \n",
       "department_admin                1.000000  ...           -0.045178   \n",
       "department_engineering         -0.093626  ...           -0.091168   \n",
       "department_finance             -0.045178  ...            1.000000   \n",
       "department_logistics           -0.042655  ...           -0.041535   \n",
       "department_marketing           -0.065257  ...           -0.063543   \n",
       "department_operations          -0.093847  ...           -0.091382   \n",
       "department_retail              -0.094543  ...           -0.092060   \n",
       "department_sales               -0.106817  ...           -0.104012   \n",
       "department_support             -0.062233  ...           -0.060599   \n",
       "salary_high                    -0.002262  ...            0.006750   \n",
       "salary_low                     -0.016257  ...           -0.000286   \n",
       "salary_medium                   0.014209  ...           -0.005177   \n",
       "\n",
       "                        department_logistics  department_marketing  \\\n",
       "promoted                           -0.012535              0.021389   \n",
       "review                              0.005914              0.020838   \n",
       "projects                            0.000054              0.002985   \n",
       "tenure                             -0.003975             -0.011226   \n",
       "satisfaction                       -0.014439             -0.004268   \n",
       "bonus                              -0.001803              0.005482   \n",
       "avg_hrs_month                      -0.003423             -0.014006   \n",
       "left                                0.007192              0.007443   \n",
       "department_IT                      -0.038989             -0.059647   \n",
       "department_admin                   -0.042655             -0.065257   \n",
       "department_engineering             -0.086076             -0.131685   \n",
       "department_finance                 -0.041535             -0.063543   \n",
       "department_logistics                1.000000             -0.059994   \n",
       "department_marketing               -0.059994              1.000000   \n",
       "department_operations              -0.086279             -0.131994   \n",
       "department_retail                  -0.086919             -0.132973   \n",
       "department_sales                   -0.098203             -0.150237   \n",
       "department_support                 -0.057215             -0.087531   \n",
       "salary_high                        -0.011063              0.003959   \n",
       "salary_low                         -0.003304              0.023515   \n",
       "salary_medium                       0.011363             -0.021103   \n",
       "\n",
       "                        department_operations  department_retail  \\\n",
       "promoted                            -0.001848           0.008837   \n",
       "review                               0.008021          -0.008615   \n",
       "projects                            -0.002625          -0.006656   \n",
       "tenure                               0.016076           0.010851   \n",
       "satisfaction                        -0.000067          -0.005193   \n",
       "bonus                               -0.005425           0.007124   \n",
       "avg_hrs_month                        0.015814           0.007784   \n",
       "left                                -0.005136           0.013345   \n",
       "department_IT                       -0.085779          -0.086416   \n",
       "department_admin                    -0.093847          -0.094543   \n",
       "department_engineering              -0.189378          -0.190782   \n",
       "department_finance                  -0.091382          -0.092060   \n",
       "department_logistics                -0.086279          -0.086919   \n",
       "department_marketing                -0.131994          -0.132973   \n",
       "department_operations                1.000000          -0.191231   \n",
       "department_retail                   -0.191231           1.000000   \n",
       "department_sales                    -0.216058          -0.217660   \n",
       "department_support                  -0.125879          -0.126813   \n",
       "salary_high                         -0.005409          -0.000810   \n",
       "salary_low                           0.000551           0.005607   \n",
       "salary_medium                        0.003903          -0.003629   \n",
       "\n",
       "                        department_sales  department_support  salary_high  \\\n",
       "promoted                       -0.010822            0.001684    -0.001484   \n",
       "review                         -0.001135           -0.004606    -0.000951   \n",
       "projects                        0.009764           -0.003400    -0.011025   \n",
       "tenure                         -0.007126            0.001723     0.007638   \n",
       "satisfaction                   -0.000389            0.003526    -0.006056   \n",
       "bonus                          -0.000192           -0.005635     0.001905   \n",
       "avg_hrs_month                  -0.005364           -0.001307     0.011134   \n",
       "left                           -0.007244           -0.002154    -0.006093   \n",
       "department_IT                  -0.097635           -0.056884     0.001851   \n",
       "department_admin               -0.106817           -0.062233    -0.002262   \n",
       "department_engineering         -0.215551           -0.125584    -0.008548   \n",
       "department_finance             -0.104012           -0.060599     0.006750   \n",
       "department_logistics           -0.098203           -0.057215    -0.011063   \n",
       "department_marketing           -0.150237           -0.087531     0.003959   \n",
       "department_operations          -0.216058           -0.125879    -0.005409   \n",
       "department_retail              -0.217660           -0.126813    -0.000810   \n",
       "department_sales                1.000000           -0.143276     0.003183   \n",
       "department_support             -0.143276            1.000000     0.014645   \n",
       "salary_high                     0.003183            0.014645     1.000000   \n",
       "salary_low                      0.012289           -0.009382    -0.181066   \n",
       "salary_medium                  -0.011919           -0.004549    -0.661198   \n",
       "\n",
       "                        salary_low  salary_medium  \n",
       "promoted                 -0.003190       0.003619  \n",
       "review                    0.004773      -0.002881  \n",
       "projects                  0.021319      -0.007450  \n",
       "tenure                   -0.000019      -0.006091  \n",
       "satisfaction              0.000752       0.004267  \n",
       "bonus                     0.013230      -0.011615  \n",
       "avg_hrs_month            -0.000448      -0.008558  \n",
       "left                     -0.007870       0.010874  \n",
       "department_IT            -0.013414       0.008753  \n",
       "department_admin         -0.016257       0.014209  \n",
       "department_engineering   -0.012593       0.016439  \n",
       "department_finance       -0.000286      -0.005177  \n",
       "department_logistics     -0.003304       0.011363  \n",
       "department_marketing      0.023515      -0.021103  \n",
       "department_operations     0.000551       0.003903  \n",
       "department_retail         0.005607      -0.003629  \n",
       "department_sales          0.012289      -0.011919  \n",
       "department_support       -0.009382      -0.004549  \n",
       "salary_high              -0.181066      -0.661198  \n",
       "salary_low                1.000000      -0.618091  \n",
       "salary_medium            -0.618091       1.000000  \n",
       "\n",
       "[21 rows x 21 columns]"
      ]
     },
     "execution_count": 20,
     "metadata": {},
     "output_type": "execute_result"
    }
   ],
   "source": [
    "# Create dummy variables for each type of department and salary category\n",
    "df_dum = pd.get_dummies(df)\n",
    "\n",
    "# Compute the correlation matrix\n",
    "df_dum.corr()"
   ]
  },
  {
   "cell_type": "markdown",
   "id": "0388714a-f9ef-4085-ba85-a4a0017989b0",
   "metadata": {},
   "source": [
    "We can see that all dummy variables (salary level and department categories) have an absolute correlation coefficient less than 0.013. For that reason, we are eliminating them from our model, to achieve more efficiency"
   ]
  },
  {
   "cell_type": "markdown",
   "id": "39e46a2a-7077-41f4-80a8-4e4f0bc844fe",
   "metadata": {},
   "source": [
    "# Model development: Logistic regression\n",
    "We will perform a Logistic Regression to predict Employee turnover using all of the variables in our dataset, excepting salary, department and avg_hours_month.\n",
    "\n",
    "From the heat correlation map, we observed how the variables tenure and avg_month_work have a correlation of 0.98, so they are redundant. We'll remove the second one, since it correlates less with 'left':"
   ]
  },
  {
   "cell_type": "markdown",
   "id": "852d8005-e882-44aa-99fb-83b555610fb3",
   "metadata": {},
   "source": [
    "## Splitting the dataset into train and test sets\n",
    "Now, we will split our data into train set and test set to prepare our data for two different phases of machine learning modeling: training and testing.\n",
    "\n",
    "Ideally, no information from the test data should be used to preprocess the training data or should be used to direct the training process of a machine learning model. Hence, we first split the data and then preprocess it."
   ]
  },
  {
   "cell_type": "code",
   "execution_count": 21,
   "id": "a0061e40-30ed-419b-adc2-0759d3f2fa33",
   "metadata": {},
   "outputs": [
    {
     "name": "stdout",
     "output_type": "stream",
     "text": [
      "   promoted    review  projects  tenure  satisfaction  bonus  left\n",
      "0         0  0.577569         3     5.0      0.626759      0     0\n",
      "1         0  0.751900         3     6.0      0.443679      0     0\n",
      "2         0  0.722548         3     6.0      0.446823      0     0\n",
      "3         0  0.675158         4     8.0      0.440139      0     0\n",
      "4         0  0.676203         3     5.0      0.577607      1     0\n"
     ]
    }
   ],
   "source": [
    "# Drop useless features: avg_hrs_month, department, salary\n",
    "df_model = df.drop(['avg_hrs_month', 'department', 'salary'], axis=1)\n",
    "print(df_model.head())\n",
    "\n",
    "# Split into train ant test splits with test size = 30%\n",
    "train, test = train_test_split(df_model, test_size = 0.3, random_state=50)"
   ]
  },
  {
   "cell_type": "markdown",
   "id": "91f2b979-44d3-4bf0-97b6-a6b6398d3f8d",
   "metadata": {},
   "source": [
    "## Check for missing values that could affect our model\n",
    "\n",
    "If no missing values found, we can continue."
   ]
  },
  {
   "cell_type": "code",
   "execution_count": 22,
   "id": "47312a79-fb86-4ded-b81c-b5d1539b1e57",
   "metadata": {},
   "outputs": [
    {
     "name": "stdout",
     "output_type": "stream",
     "text": [
      "promoted        0\n",
      "review          0\n",
      "projects        0\n",
      "tenure          0\n",
      "satisfaction    0\n",
      "bonus           0\n",
      "left            0\n",
      "dtype: int64\n",
      "promoted        0\n",
      "review          0\n",
      "projects        0\n",
      "tenure          0\n",
      "satisfaction    0\n",
      "bonus           0\n",
      "left            0\n",
      "dtype: int64\n"
     ]
    }
   ],
   "source": [
    "# Check for null values\n",
    "print(train.isnull().sum())\n",
    "print(test.isnull().sum())"
   ]
  },
  {
   "cell_type": "markdown",
   "id": "397205db-2105-4234-9b92-4f722e58900a",
   "metadata": {},
   "source": [
    "## Data preprocessing: scaling features\n",
    "Scale the feature values to a uniform range (0-1), because models like logistic regressions are very sensitive to the range of the data points."
   ]
  },
  {
   "cell_type": "code",
   "execution_count": 23,
   "id": "0059be34-fc2e-416c-adf9-701d3b8405ec",
   "metadata": {},
   "outputs": [],
   "source": [
    "# Segregate features and labels into separate variables\n",
    "X_train, y_train = train.iloc[:, :-1].values, train.iloc[:, [-1]].values\n",
    "X_test, y_test = test.iloc[:, :-1].values, test.iloc[:, [-1]].values\n",
    "\n",
    "# Instantiate MinMaxScaler and use it to rescale X_train and X_test\n",
    "scaler = MinMaxScaler(feature_range=(0,1))\n",
    "rescaledX_train = scaler.fit_transform(X_train)\n",
    "rescaledX_test = scaler.transform(X_test)"
   ]
  },
  {
   "cell_type": "markdown",
   "id": "18658619-77bd-46ca-bb73-00f10c4c5a51",
   "metadata": {},
   "source": [
    "## Fitting a logistic regression model to the train set\n",
    "Predicting if an employee will leave or not is a classification task. Our dataset contains more instances that correspond to \"Remains\" than instances corresponding to \"Left\". Specifically, out of 9540 instances, there are 6756 (70,8%) employees that remains and 2784 (29,2%) employees that left.\n",
    "\n",
    "This gives us a benchmark. A good machine learning model should be able to accurately predict the decision of an employee with respect to these statistics."
   ]
  },
  {
   "cell_type": "code",
   "execution_count": 24,
   "id": "ea648c51-0e99-4aff-8633-7eb338046fb4",
   "metadata": {},
   "outputs": [
    {
     "data": {
      "text/plain": [
       "LogisticRegression()"
      ]
     },
     "execution_count": 24,
     "metadata": {},
     "output_type": "execute_result"
    }
   ],
   "source": [
    "# Instantiate a LogisticRegression classifier with default parameter values\n",
    "logreg = LogisticRegression()\n",
    "\n",
    "# Fit logreg to the train set\n",
    "logreg.fit(rescaledX_train, y_train)"
   ]
  },
  {
   "cell_type": "markdown",
   "id": "a7894669-6a00-4f2c-9c94-fc75619f6792",
   "metadata": {},
   "source": [
    "## Making predictions and evaluating performance\n",
    "Time to check how well does our model perform:\n",
    "\n",
    "We will now evaluate our model on the test set with respect to classification accuracy. But we will also take a look the model's confusion matrix and other model's"
   ]
  },
  {
   "cell_type": "code",
   "execution_count": 25,
   "id": "9b2e41ec-0f19-4376-8bad-4b5c0440275b",
   "metadata": {},
   "outputs": [
    {
     "name": "stdout",
     "output_type": "stream",
     "text": [
      "Accuracy of logistic regression classifier: 0.7337526205450734 \n",
      "\n",
      "Confusion matrix: \n",
      " [[1931   88]\n",
      " [ 674  169]] \n",
      "\n",
      "Classification report: (0: remains,  1: left)\n",
      "               precision    recall  f1-score   support\n",
      "\n",
      "           0       0.74      0.96      0.84      2019\n",
      "           1       0.66      0.20      0.31       843\n",
      "\n",
      "    accuracy                           0.73      2862\n",
      "   macro avg       0.70      0.58      0.57      2862\n",
      "weighted avg       0.72      0.73      0.68      2862\n",
      " \n",
      "\n",
      "Frequency of unique values of the prediction array: (0: remains,  1: left)\n",
      "[[   0    1]\n",
      " [2605  257]]\n"
     ]
    }
   ],
   "source": [
    "# Use logreg to predict instances from the test set and store it\n",
    "y_pred = logreg.predict(rescaledX_test)\n",
    "\n",
    "# Get the accuracy score of logreg model and print it\n",
    "print(\"Accuracy of logistic regression classifier:\", logreg.score(rescaledX_test, y_test), '\\n')\n",
    "\n",
    "# Print the confusion matrix of the logreg model\n",
    "print('Confusion matrix: \\n', confusion_matrix(y_test,y_pred), '\\n')\n",
    "\n",
    "# Print the classification report\n",
    "print('Classification report: (0: remains,  1: left)\\n', classification_report(y_test, y_pred), '\\n')\n",
    "\n",
    "# Number of remains (0) and turnovers (1) predicted:\n",
    "unique_elements, counts_elements = np.unique(y_pred, return_counts=True)\n",
    "print(\"Frequency of unique values of the prediction array: (0: remains,  1: left)\")\n",
    "print(np.asarray((unique_elements, counts_elements)))"
   ]
  },
  {
   "cell_type": "markdown",
   "id": "a60d1479-5e76-4bfe-ac28-9ffb67e84579",
   "metadata": {},
   "source": [
    "## Results\n",
    "For the confusion matrix:\n",
    "- <b>1931</b>: The first element of the of the first row denotes the true negatives (employee <b>remains</b> or '0') predicted by the model <b>correctly</b>. \n",
    "- <b>169</b>: The last element of the second row denotes the true positives (employee <b>left</b> or '1') predicted by the model <b>correctly</b>.\n",
    "\n",
    "- <b>674</b>: The first element of the second row denots the false negatives (employee <b>remains</b> or '0') predicted by the model <b>incorrectly</b>.\n",
    "- <b>88</b>: The last element of the first row denotes the false positives (employee <b>left</b> or '1') predicted by the model <b>incorrectly</b>.\n",
    "\n",
    "Our model was able to yield an accuracy score of 73,3%. However, it was only able to correctly predict 169 of the 843 employees who left (recall = 0.20). For this reason, we consider that our model is not satisfactory, and it is recommended to look for other types of variables to predict with greater precision."
   ]
  },
  {
   "cell_type": "markdown",
   "id": "bf759fc6-3f7e-4c4a-bb3b-613214f635a3",
   "metadata": {},
   "source": [
    "# 3. Conclusions and final recommendations regarding ways to reduce employee turnover\n",
    "The company is going through a major employee turnover crisis, with almost 30% of employees recently resigning.\n",
    "\n",
    "From the study of the variables carried out, <b>reviews</b> represented the best predictor, followed by <b> promoted </b>, with 0.3 and 0.03 correlation coeficientes with <b>turnover</b>, respectively. However, the correlation coefficients, and therefore the predictive capacities, are very low in general for the entire group of variables.\n",
    "\n",
    "That said, we recommend the following actions:\n",
    "\n",
    "## Investigate and collect other kind of variables.\n",
    "In the surveys, not only ask about satisfaction rating, but also about variables such as: employee's opinion about the <b>work environment</b>, <b>challenges</b>, <b>autonomy</b> and <b>overload of responsibilities</b>, and use them as new variables to improve the predictive capacity of the model.\n",
    "\n",
    "Not only variables intrinsically related to work could be included in the analysis. Aspects such as the <b> psychological state</b> of the employee or the time it takes to get to work <b>(commute)</b> could add value to finding the causes of turnovers. Innovative companies today have free psychology services that employees can take at any time and also, flexibility towards more remote work time.\n",
    "\n",
    "## Grant more acttractive opportunities to stay to employees with better reviews.\n",
    "We saw how, on average, employees with better reviews tend to leave the company more. Therefore, the company must improve aspects so that the most qualified employees decide to continue making a career in the company. These aspects could be investigated through surveys, but it is assumed in advance that they can be better salaries, growth opportunities, challenges and extra benefits.\n",
    "\n",
    "It is important to act fast because, as being highly qualified employees, they are more in demand by other companies, so they can move to workplaces where they are more satisfied.\n",
    "\n",
    "## Give promotions more often, as long as they are deserved.\n",
    "Promotions was the second most important variable to predict turnovers, since employees who received promotions recently tended to stay with the company longer.\n",
    "\n",
    "Therefore, it is important to guarantee growth opportunities within the company and to grant promotions precisely to the employees who most deserve them."
   ]
  },
  {
   "cell_type": "markdown",
   "id": "7927c120-df9f-4fcf-8de1-f6fddc75320d",
   "metadata": {},
   "source": [
    "## Final thoughts\n",
    "If you made it this far, thank you so much for reading!\n",
    "\n",
    "I am attentive in the comments to any questions and suggestions you have."
   ]
  }
 ],
 "metadata": {
  "kernelspec": {
   "display_name": "Python 3 (ipykernel)",
   "language": "python",
   "name": "python3"
  },
  "language_info": {
   "codemirror_mode": {
    "name": "ipython",
    "version": 3
   },
   "file_extension": ".py",
   "mimetype": "text/x-python",
   "name": "python",
   "nbconvert_exporter": "python",
   "pygments_lexer": "ipython3",
   "version": "3.8.10"
  }
 },
 "nbformat": 4,
 "nbformat_minor": 5
}
