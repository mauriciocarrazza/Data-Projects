{
 "cells": [
  {
   "cell_type": "markdown",
   "metadata": {
    "dc": {
     "key": "4"
    },
    "deletable": false,
    "editable": false,
    "run_control": {
     "frozen": true
    },
    "tags": [
     "context"
    ]
   },
   "source": [
    "## Cosmetics Brand Analysis\n",
    "<p>The cosmetics industry is a 50 billion-dollar-a-year business in the US alone. Cosmetics sales are even used as an indicator for economic recessions (i.e., the \"lipstick index\").</p>\n",
    "<p>You are working for a cosmetics start-up that plans to launch a new line of organic products. The launch will focus on the following cosmetics categories: fragrances, makeup, and skincare. Your task is to find the average prices for four competitor brands across these three categories. </p>\n",
    "<p>You will be using data collected from Sephora's global store in your analysis. However, there are some additional requirements before you can present the results:</p>\n",
    "<ul>\n",
    "<li>The data available is unprocessed as received from Sephora. The start-up requests the categories as follows:</li>\n",
    "</ul>\n",
    "<table>\n",
    "<thead>\n",
    "<tr>\n",
    "<th>New category</th>\n",
    "<th style=\"text-align:left;\">Existing categories to reclassify</th>\n",
    "</tr>\n",
    "</thead>\n",
    "<tbody>\n",
    "<tr>\n",
    "<td>Fragrance</td>\n",
    "<td style=\"text-align:left;\">Perfume, Cologne</td>\n",
    "</tr>\n",
    "<tr>\n",
    "<td>Makeup</td>\n",
    "<td style=\"text-align:left;\">Eye Palettes, Lipstick, Highlighter, Foundation, Mascara, Eyeliner, Makeup, Eyeshadow</td>\n",
    "</tr>\n",
    "<tr>\n",
    "<td>Skincare</td>\n",
    "<td style=\"text-align:left;\">Moisturizers, Face Serums, Face Wash &amp; Cleansers, Face Masks, Face Primer, Body Lotions &amp; Body Oils,  Lotions &amp; Oils</td>\n",
    "</tr>\n",
    "</tbody>\n",
    "</table>\n",
    "<ul>\n",
    "<li><p>Currently, it is unclear who the primary competitors are. Find the top four brands by the combined number of fragrance, makeup, and skincare products produced.</p></li>\n",
    "<li><p>Exclude any products containing the toxic ingredient \"toluene\" from your analysis. Assume products with no ingredient information do not contain \"toluene\".</p></li>\n",
    "<li><p>Product prices should be compared in USD. Below are the conversions for currencies found in the dataset:</p>\n",
    "<ul>\n",
    "<li>1 EUR = 1.22 USD</li>\n",
    "<li>1 GBP = 1.42 USD</li>\n",
    "<li>1 Yen = 0.01 USD</li></ul></li>\n",
    "</ul>\n",
    "<hr>\n",
    "<p><em>The datasets available are listed below:</em></p>\n",
    "<div style=\"background-color: #efebe4; color: #05192d; text-align:left; vertical-align: middle; padding: 15px 25px 15px 25px; line-height: 1.6;\">\n",
    "    <div style=\"font-size:16px\"><b>datasets/cosmetics.csv - Catalogue of cosmetics products, including brand, category, price, and other characteristics</b>\n",
    "    </div>\n",
    "    <div>Source: <a href=\"https://www.kaggle.com/raghadalharbi/all-products-available-on-sephora-website/version/1\">Kaggle</a></div>\n",
    "<ul>\n",
    "    <li><b>id: </b>The product id.</li>\n",
    "    <li><b>brand: </b>The brand.</li>\n",
    "    <li><b>category: </b>The category of product.</li>\n",
    "    <li><b>name: </b>The name of the product.</li>\n",
    "    <li><b>size: </b>The size of the product.</li>\n",
    "    <li><b>price: </b>The price of the product (in various currencies).</li>\n",
    "    <li><b>rating: </b>The consumer rating of the product.</li>\n",
    "    <li><b>how_to_use: </b>Instructions for the product.</li>\n",
    "    <li><b>online_only: </b>Whether or not the product is online-exclusive.</li>\n",
    "    <li><b>limited_edition: </b>Whether or not the product is limited edition.</li>\n",
    "</ul>\n",
    "    </div>\n",
    "<div style=\"background-color: #efebe4; color: #05192d; text-align:left; vertical-align: middle; padding: 15px 25px 15px 25px; line-height: 1.6; margin-top: 17px;\">\n",
    "    <div style=\"font-size:16px\"><b>datasets/ingredients.txt - A tab-delimited file containing the product IDs and ingredients for products in the cosmetics dataset</b>\n",
    "    </div>\n",
    "    <div>Source: <a href=\"https://www.kaggle.com/raghadalharbi/all-products-available-on-sephora-website/version/1\">Kaggle</a></div>\n",
    "<ul>\n",
    "    <li><b>product_id: </b>The product id (corresponding to the id column in the cosmetics dataset).</li>\n",
    "    <li><b>ingredients: </b>The list of ingredients in the product.</li> \n",
    "</ul>\n",
    "    </div>\n",
    "<div style=\"background-color: #efebe4; color: #05192d; text-align:left; vertical-align: middle; padding: 15px 25px 15px 25px; line-height: 1.6; margin-top: 17px;\">\n",
    "    <div style=\"font-size:16px\"><b>datasets/cosmetics_categories.csv - Table containing the sub and broad categories for recategorization</b>\n",
    "    </div>\n",
    "<ul>\n",
    "    <li><b>sub_category: </b>The sub categories that exist in the cosmetics CSV that need to be recategorized.</li>\n",
    "    <li><b>broad_category: </b>The corresponding broader category to which the sub_category belongs to and needs to be recategorized as.</li> \n",
    "</ul>\n",
    "    </div>"
   ]
  },
  {
   "cell_type": "code",
   "execution_count": 88,
   "metadata": {
    "dc": {
     "key": "4"
    },
    "tags": [
     "sample_code"
    ]
   },
   "outputs": [],
   "source": [
    "# Use this cell to begin your analysis, and add as many as you would like!\n",
    "\n",
    "# Import the necessary modules\n",
    "import pandas as pd\n",
    "\n",
    "# Read the cosmetics and show the first 5 rows of them\n",
    "cosmetics = pd.read_csv('datasets/cosmetics.csv')"
   ]
  },
  {
   "cell_type": "code",
   "execution_count": 89,
   "metadata": {
    "dc": {
     "key": "4"
    }
   },
   "outputs": [],
   "source": [
    "# Read the cosmetics categories file and show the first 5 rows of them\n",
    "categories = pd.read_csv('datasets/cosmetics_categories.csv')"
   ]
  },
  {
   "cell_type": "code",
   "execution_count": 90,
   "metadata": {
    "dc": {
     "key": "4"
    }
   },
   "outputs": [
    {
     "name": "stdout",
     "output_type": "stream",
     "text": [
      "(138,)\n",
      "(124,)\n"
     ]
    }
   ],
   "source": [
    "# Create a new cosmetics dataframe with the updated categories: Fragance, Makeup and skincare\n",
    "\n",
    "# Convert the categories table to a dictionary:\n",
    "categories_dict = categories.set_index('sub_category')['broad_category'].to_dict()\n",
    "\n",
    "# Use pandas' replace method to update the dataframe:\n",
    "new_cosmetics = cosmetics.replace(categories_dict)\n",
    "\n",
    "# Compare number of categories before and after the change\n",
    "print(cosmetics['category'].unique().shape)\n",
    "print(new_cosmetics['category'].unique().shape)"
   ]
  },
  {
   "cell_type": "code",
   "execution_count": 91,
   "metadata": {
    "dc": {
     "key": "4"
    }
   },
   "outputs": [
    {
     "name": "stdout",
     "output_type": "stream",
     "text": [
      "(3535, 10)\n"
     ]
    }
   ],
   "source": [
    "# Find the top four brands by the combined number of fragrance, makeup, and skincare products produced.\n",
    "# Create a new dataframe that only includes prodcuts within the 3 categories mentiones above.\n",
    "subsetcats = ['Fragrance', 'Makeup', 'Skincare']\n",
    "cosmetics_3c = new_cosmetics.loc[new_cosmetics['category'].isin(subsetcats)]\n",
    "# Check that only 3 unique categories are in the new df\n",
    "cosmetics_3c['category'].unique()\n",
    "#Overview the new df\n",
    "print(cosmetics_3c.shape)"
   ]
  },
  {
   "cell_type": "code",
   "execution_count": 92,
   "metadata": {
    "dc": {
     "key": "4"
    }
   },
   "outputs": [
    {
     "name": "stdout",
     "output_type": "stream",
     "text": [
      "(8632, 2)\n",
      "(3535, 12)\n"
     ]
    }
   ],
   "source": [
    "# Convert the ingredients tab-delimited file into a df\n",
    "ingredients = pd.read_csv('datasets/ingredients.txt', sep='\\t')\n",
    "print(ingredients.shape)\n",
    "\n",
    "# Join the cosmetics_3c and ingredients df's using an inner join on id = product_id\n",
    "cosmetics_ingredients = cosmetics_3c.merge(ingredients, how='left', left_on='id', right_on='product_id')\n",
    "print(cosmetics_ingredients.shape)"
   ]
  },
  {
   "cell_type": "code",
   "execution_count": 93,
   "metadata": {
    "dc": {
     "key": "4"
    }
   },
   "outputs": [
    {
     "name": "stdout",
     "output_type": "stream",
     "text": [
      "shape of the table with no toluene (2990, 12)\n",
      "shape of the table with top 4 brands by product amount (413, 12)\n"
     ]
    },
    {
     "data": {
      "text/html": [
       "<div>\n",
       "<style scoped>\n",
       "    .dataframe tbody tr th:only-of-type {\n",
       "        vertical-align: middle;\n",
       "    }\n",
       "\n",
       "    .dataframe tbody tr th {\n",
       "        vertical-align: top;\n",
       "    }\n",
       "\n",
       "    .dataframe thead th {\n",
       "        text-align: right;\n",
       "    }\n",
       "</style>\n",
       "<table border=\"1\" class=\"dataframe\">\n",
       "  <thead>\n",
       "    <tr style=\"text-align: right;\">\n",
       "      <th></th>\n",
       "      <th>id</th>\n",
       "      <th>brand</th>\n",
       "      <th>category</th>\n",
       "      <th>name</th>\n",
       "      <th>size</th>\n",
       "      <th>price</th>\n",
       "      <th>rating</th>\n",
       "      <th>how_to_use</th>\n",
       "      <th>online_only</th>\n",
       "      <th>limited_edition</th>\n",
       "      <th>product_id</th>\n",
       "      <th>ingredients</th>\n",
       "    </tr>\n",
       "  </thead>\n",
       "  <tbody>\n",
       "    <tr>\n",
       "      <th>641</th>\n",
       "      <td>2019461</td>\n",
       "      <td>CLINIQUE</td>\n",
       "      <td>Skincare</td>\n",
       "      <td>Moisture Surge 72-Hour Auto-Replenishing Hydrator</td>\n",
       "      <td>no size</td>\n",
       "      <td>39.0</td>\n",
       "      <td>4.5</td>\n",
       "      <td>Suggested Usage:-This multitasking formula can...</td>\n",
       "      <td>0</td>\n",
       "      <td>0</td>\n",
       "      <td>2019461</td>\n",
       "      <td>-Auto-Replenishing Technology with Caffeine: ...</td>\n",
       "    </tr>\n",
       "    <tr>\n",
       "      <th>642</th>\n",
       "      <td>1538354</td>\n",
       "      <td>CLINIQUE</td>\n",
       "      <td>Skincare</td>\n",
       "      <td>Dramatically Different Moisturizing Lotion+</td>\n",
       "      <td>no size</td>\n",
       "      <td>28.0</td>\n",
       "      <td>4.0</td>\n",
       "      <td>Suggested Usage:-Spread all over face and thro...</td>\n",
       "      <td>0</td>\n",
       "      <td>0</td>\n",
       "      <td>1538354</td>\n",
       "      <td>-Sunflower Seed Cake- Barley Extract- and Cucu...</td>\n",
       "    </tr>\n",
       "    <tr>\n",
       "      <th>643</th>\n",
       "      <td>789727</td>\n",
       "      <td>CLINIQUE</td>\n",
       "      <td>Skincare</td>\n",
       "      <td>Dramatically Different Moisturizing Gel</td>\n",
       "      <td>no size</td>\n",
       "      <td>28.0</td>\n",
       "      <td>4.5</td>\n",
       "      <td>Suggested Usage:-Spread all over face and thro...</td>\n",
       "      <td>0</td>\n",
       "      <td>0</td>\n",
       "      <td>789727</td>\n",
       "      <td>-Sunflower Seed Cake- Barley Extract- and Cuc...</td>\n",
       "    </tr>\n",
       "    <tr>\n",
       "      <th>644</th>\n",
       "      <td>899070</td>\n",
       "      <td>CLINIQUE</td>\n",
       "      <td>Skincare</td>\n",
       "      <td>Liquid Facial Soap</td>\n",
       "      <td>no size</td>\n",
       "      <td>18.0</td>\n",
       "      <td>4.5</td>\n",
       "      <td>Suggested Usage:-With tepid water- lather Liqu...</td>\n",
       "      <td>0</td>\n",
       "      <td>0</td>\n",
       "      <td>899070</td>\n",
       "      <td>Water- Sodium Laureth Sulfate- Sodium Chloride...</td>\n",
       "    </tr>\n",
       "    <tr>\n",
       "      <th>645</th>\n",
       "      <td>2084010</td>\n",
       "      <td>CLINIQUE</td>\n",
       "      <td>Makeup</td>\n",
       "      <td>Even Better Foundation Makeup Broad Spectrum S...</td>\n",
       "      <td>no size</td>\n",
       "      <td>29.0</td>\n",
       "      <td>4.0</td>\n",
       "      <td>Suggested Usage:-Start in center of your face-...</td>\n",
       "      <td>0</td>\n",
       "      <td>0</td>\n",
       "      <td>2084010</td>\n",
       "      <td>-Octinoxate 5.9%- Titanium Dioxide 3.5%- Zinc ...</td>\n",
       "    </tr>\n",
       "  </tbody>\n",
       "</table>\n",
       "</div>"
      ],
      "text/plain": [
       "          id     brand  category  \\\n",
       "641  2019461  CLINIQUE  Skincare   \n",
       "642  1538354  CLINIQUE  Skincare   \n",
       "643   789727  CLINIQUE  Skincare   \n",
       "644   899070  CLINIQUE  Skincare   \n",
       "645  2084010  CLINIQUE    Makeup   \n",
       "\n",
       "                                                  name     size  price  \\\n",
       "641  Moisture Surge 72-Hour Auto-Replenishing Hydrator  no size   39.0   \n",
       "642        Dramatically Different Moisturizing Lotion+  no size   28.0   \n",
       "643            Dramatically Different Moisturizing Gel  no size   28.0   \n",
       "644                                 Liquid Facial Soap  no size   18.0   \n",
       "645  Even Better Foundation Makeup Broad Spectrum S...  no size   29.0   \n",
       "\n",
       "     rating                                         how_to_use  online_only  \\\n",
       "641     4.5  Suggested Usage:-This multitasking formula can...            0   \n",
       "642     4.0  Suggested Usage:-Spread all over face and thro...            0   \n",
       "643     4.5  Suggested Usage:-Spread all over face and thro...            0   \n",
       "644     4.5  Suggested Usage:-With tepid water- lather Liqu...            0   \n",
       "645     4.0  Suggested Usage:-Start in center of your face-...            0   \n",
       "\n",
       "     limited_edition  product_id  \\\n",
       "641                0     2019461   \n",
       "642                0     1538354   \n",
       "643                0      789727   \n",
       "644                0      899070   \n",
       "645                0     2084010   \n",
       "\n",
       "                                           ingredients  \n",
       "641   -Auto-Replenishing Technology with Caffeine: ...  \n",
       "642  -Sunflower Seed Cake- Barley Extract- and Cucu...  \n",
       "643   -Sunflower Seed Cake- Barley Extract- and Cuc...  \n",
       "644  Water- Sodium Laureth Sulfate- Sodium Chloride...  \n",
       "645  -Octinoxate 5.9%- Titanium Dioxide 3.5%- Zinc ...  "
      ]
     },
     "execution_count": 93,
     "metadata": {},
     "output_type": "execute_result"
    }
   ],
   "source": [
    "# Filter out products with toluene as an ingredient\n",
    "cosmetics_no_toluene = cosmetics_ingredients[~cosmetics_ingredients['ingredients'].str.contains('toluene')]\n",
    "print('shape of the table with no toluene', cosmetics_no_toluene.shape)\n",
    "\n",
    "# Filter to show only products from top 4 brands (considering total product amount)\n",
    "# First we check if there are same brands with different writing\n",
    "cosmetics_no_toluene.groupby('brand').count()\n",
    "\n",
    "# We have to normalize every brand name so we capitalize all letters in the column\n",
    "cosmetics_no_toluene['brand'] = cosmetics_no_toluene['brand'].str.upper()\n",
    "cosmetics_no_toluene.groupby('brand').count()\n",
    "\n",
    "# Extract top 4 brands\n",
    "# Identify top 4 brands:\n",
    "top4_list = cosmetics_no_toluene['brand'].value_counts()[:4].index.tolist()\n",
    "top4_cosmetics = cosmetics_no_toluene.loc[cosmetics_no_toluene['brand'].isin(top4_list)]\n",
    "print('shape of the table with top 4 brands by product amount', top4_cosmetics.shape)\n",
    "\n",
    "# Check for columns with different currencies (EUR, YEN, GBP)\n",
    "EUR_prices_cosmetics = top4_cosmetics[top4_cosmetics['price'].str.contains('EUR')]\n",
    "EUR_prices_cosmetics.shape\n",
    "\n",
    "# Convert to numerics the prices in EUR_prices\n",
    "# First remove all string values and convert them to int and USD (*1.22)\n",
    "EUR_prices_cosmetics['price'] = (top4_cosmetics['price'].str.replace(r\"[a-zA-Z]\",'').astype(int)) * 1.22\n",
    "\n",
    "# Do the same for USD prices\n",
    "USD_prices_cosmetics = top4_cosmetics[top4_cosmetics['price'].str.contains('USD')]\n",
    "USD_prices_cosmetics['price'] = (top4_cosmetics['price'].str.replace(r\"[a-zA-Z]\",'').astype(int))\n",
    "\n",
    "# Join the two dataframes to have the final one\n",
    "final_cosmetics = USD_prices_cosmetics.append(EUR_prices_cosmetics)\n",
    "final_cosmetics.head()"
   ]
  },
  {
   "cell_type": "code",
   "execution_count": 94,
   "metadata": {
    "dc": {
     "key": "4"
    }
   },
   "outputs": [
    {
     "data": {
      "text/html": [
       "<div>\n",
       "<style scoped>\n",
       "    .dataframe tbody tr th:only-of-type {\n",
       "        vertical-align: middle;\n",
       "    }\n",
       "\n",
       "    .dataframe tbody tr th {\n",
       "        vertical-align: top;\n",
       "    }\n",
       "\n",
       "    .dataframe thead th {\n",
       "        text-align: right;\n",
       "    }\n",
       "</style>\n",
       "<table border=\"1\" class=\"dataframe\">\n",
       "  <thead>\n",
       "    <tr style=\"text-align: right;\">\n",
       "      <th>category</th>\n",
       "      <th>Fragrance</th>\n",
       "      <th>Makeup</th>\n",
       "      <th>Skincare</th>\n",
       "    </tr>\n",
       "    <tr>\n",
       "      <th>brand</th>\n",
       "      <th></th>\n",
       "      <th></th>\n",
       "      <th></th>\n",
       "    </tr>\n",
       "  </thead>\n",
       "  <tbody>\n",
       "    <tr>\n",
       "      <th>CLINIQUE</th>\n",
       "      <td>58.00</td>\n",
       "      <td>24.08</td>\n",
       "      <td>36.90</td>\n",
       "    </tr>\n",
       "    <tr>\n",
       "      <th>DIOR</th>\n",
       "      <td>92.85</td>\n",
       "      <td>39.12</td>\n",
       "      <td>88.08</td>\n",
       "    </tr>\n",
       "    <tr>\n",
       "      <th>SEPHORA COLLECTION</th>\n",
       "      <td>17.00</td>\n",
       "      <td>16.83</td>\n",
       "      <td>10.04</td>\n",
       "    </tr>\n",
       "    <tr>\n",
       "      <th>TOM FORD</th>\n",
       "      <td>182.70</td>\n",
       "      <td>61.35</td>\n",
       "      <td>74.86</td>\n",
       "    </tr>\n",
       "  </tbody>\n",
       "</table>\n",
       "</div>"
      ],
      "text/plain": [
       "category            Fragrance  Makeup  Skincare\n",
       "brand                                          \n",
       "CLINIQUE                58.00   24.08     36.90\n",
       "DIOR                    92.85   39.12     88.08\n",
       "SEPHORA COLLECTION      17.00   16.83     10.04\n",
       "TOM FORD               182.70   61.35     74.86"
      ]
     },
     "execution_count": 94,
     "metadata": {},
     "output_type": "execute_result"
    }
   ],
   "source": [
    "# Create the final pivot table:\n",
    "brand_prices = pd.pivot_table(final_cosmetics, values='price', index='brand', columns='category', aggfunc='mean')\n",
    "brand_prices = round(brand_prices, 2)\n",
    "brand_prices"
   ]
  }
 ],
 "metadata": {
  "kernelspec": {
   "display_name": "Python 3 (ipykernel)",
   "language": "python",
   "name": "python3"
  },
  "language_info": {
   "codemirror_mode": {
    "name": "ipython",
    "version": 3
   },
   "file_extension": ".py",
   "mimetype": "text/x-python",
   "name": "python",
   "nbconvert_exporter": "python",
   "pygments_lexer": "ipython3",
   "version": "3.8.10"
  }
 },
 "nbformat": 4,
 "nbformat_minor": 4
}
